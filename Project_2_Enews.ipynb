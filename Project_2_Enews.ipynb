{
  "nbformat": 4,
  "nbformat_minor": 0,
  "metadata": {
    "colab": {
      "provenance": []
    },
    "kernelspec": {
      "name": "python3",
      "display_name": "Python 3"
    },
    "language_info": {
      "name": "python"
    }
  },
  "cells": [
    {
      "cell_type": "markdown",
      "source": [
        "# **Project Business Statistics: E-news Express**"
      ],
      "metadata": {
        "id": "2VgvoHnecajD"
      }
    },
    {
      "cell_type": "markdown",
      "source": [
        "## **Problem Statement**"
      ],
      "metadata": {
        "id": "rfpPv_FTcP3R"
      }
    },
    {
      "cell_type": "markdown",
      "source": [
        "E-news Express of, an online news portal, is experiencing a decline in new monthly subscribers, potentially due to the limitations of its current landing page in engaging users effectively. To address this, the company has developed a redesigned landing page that incorporates an improved outline and more relevant content. The goal is to assess whether the new design increases user engagement and conversion rates compared to the existing design."
      ],
      "metadata": {
        "id": "AneG0ywsevul"
      }
    },
    {
      "cell_type": "markdown",
      "source": [
        "## **Objectives**"
      ],
      "metadata": {
        "id": "pL85TRD_e1cp"
      }
    },
    {
      "cell_type": "markdown",
      "source": [
        "As a data scientist at E-news Express, We need to analyze the user interaction data from an A/B testing experiment conducted on the two landing page variants. The experiment aims to determine the effectiveness of the new design in increasing user engagement and conversions. Specifically, the objectives are:\n",
        "\n",
        "1. Do the users spend more time on the new landing page than on the existing landing page?\n",
        "2. Is the conversion rate (the proportion of users who visit the landing page and get converted) for the new page greater than the conversion rate for the old page?\n",
        "3. Does the converted status depend on the preferred language?\n",
        "4. Is the time spent on the new page the same for the different language users?"
      ],
      "metadata": {
        "id": "Nyv06vHQfhdI"
      }
    },
    {
      "cell_type": "markdown",
      "source": [
        "## **Data Dictionary**"
      ],
      "metadata": {
        "id": "6iAbrBMcg_zt"
      }
    },
    {
      "cell_type": "markdown",
      "source": [
        "The data contains information regarding the interaction of users in both groups with the two versions of the landing page.\n",
        "\n",
        "1. user_id - Unique user ID of the person visiting the website\n",
        "2. group - Whether the user belongs to the first group (control) or the second group (treatment)\n",
        "3. landing_page - Whether the landing page is new or old\n",
        "4. time_spent_on_the_page - Time (in minutes) spent by the user on the landing page\n",
        "5. converted - Whether the user gets converted to a subscriber of the news portal or not\n",
        "6. language_preferred - Language chosen by the user to view the landing page"
      ],
      "metadata": {
        "id": "oY8nrEP5hGwC"
      }
    },
    {
      "cell_type": "markdown",
      "source": [
        "## **Solution Approach**"
      ],
      "metadata": {
        "id": "MviQtClrhgSD"
      }
    },
    {
      "cell_type": "markdown",
      "source": [
        "**Data Preparation:** Load and clean the data, ensuring variables are in the correct format and addressing any missing or outlier values.\n",
        "\n",
        "**User Engagement Analysis:** Perform a one-tailed t-test to compare the average time spent on the new and old landing pages.\n",
        "\n",
        "**Conversion Rate Comparison**: Conduct a proportion z-test to determine if the new landing page has a higher conversion rate than the old one.\n",
        "\n",
        "**Language Impact on Conversion:** Use a chi-square test to analyze if conversion status is dependent on the preferred language.\n",
        "\n",
        "**Time Analysis by Language:** Conduct a one-way ANOVA to check if time spent on the new page differs across language groups, and summarize actionable insights."
      ],
      "metadata": {
        "id": "k9ZrroILhkhq"
      }
    },
    {
      "cell_type": "markdown",
      "source": [
        "# **Import all the necessary libraries**"
      ],
      "metadata": {
        "id": "9zgeDomagias"
      }
    },
    {
      "cell_type": "code",
      "source": [
        "# Installing the libraries with the specified version.\n",
        "!pip install numpy==1.25.2 pandas==1.5.3 matplotlib==3.7.1 seaborn==0.13.1 scipy==1.11.4 -q --user"
      ],
      "metadata": {
        "collapsed": true,
        "id": "dXxDe1ofeycS"
      },
      "execution_count": 1,
      "outputs": []
    },
    {
      "cell_type": "code",
      "execution_count": 2,
      "metadata": {
        "id": "cb2yTD3-v7AD"
      },
      "outputs": [],
      "source": [
        "#import the important packages\n",
        "import pandas as pd #library used for data manipulation and analysis\n",
        "import numpy as np # library used for working with arrays.\n",
        "import matplotlib.pyplot as plt # library for plots and visualisations\n",
        "import seaborn as sns # library for visualisations\n",
        "%matplotlib inline\n",
        "\n",
        "import scipy.stats as stats # this library contains a large number of probability distributions as well as a growing library of statistical functions.\n",
        "# Function for handling normal distribution and statistical calculation\n",
        "from scipy.stats import norm\n",
        "from statsmodels.stats.proportion import proportions_ztest"
      ]
    },
    {
      "cell_type": "markdown",
      "source": [
        "# **Loading the dataset**"
      ],
      "metadata": {
        "id": "yjClVCurlQlc"
      }
    },
    {
      "cell_type": "code",
      "source": [
        "# Write your code here to read the data\n",
        "\n",
        "df =pd.read_csv('/content/abtest.csv') #This is the code to read the contents of the .csv file in google colab."
      ],
      "metadata": {
        "id": "uepekC0Xklc5"
      },
      "execution_count": 3,
      "outputs": []
    },
    {
      "cell_type": "markdown",
      "source": [
        "Observations:\n",
        "\n",
        "For the above line of code, I have directly uploaded by .csv file in the upload to session storage folder(same working directory).It is helpful to read the contents of the .csv file in google colab."
      ],
      "metadata": {
        "id": "Vt02N2tSl0RA"
      }
    },
    {
      "cell_type": "markdown",
      "source": [
        "### **Displaying the first few rows of the dataset**"
      ],
      "metadata": {
        "id": "tjYWQAvomPVM"
      }
    },
    {
      "cell_type": "code",
      "source": [
        "#Code here to view the first 5 rows\n",
        "df.head()"
      ],
      "metadata": {
        "colab": {
          "base_uri": "https://localhost:8080/",
          "height": 206
        },
        "id": "yH9dW5Bbl5pc",
        "outputId": "81f13c35-5592-4d83-cf9d-24b6949b3c1e"
      },
      "execution_count": 4,
      "outputs": [
        {
          "output_type": "execute_result",
          "data": {
            "text/plain": [
              "   user_id      group landing_page  time_spent_on_the_page converted  \\\n",
              "0   546592    control          old                    3.48        no   \n",
              "1   546468  treatment          new                    7.13       yes   \n",
              "2   546462  treatment          new                    4.40        no   \n",
              "3   546567    control          old                    3.02        no   \n",
              "4   546459  treatment          new                    4.75       yes   \n",
              "\n",
              "  language_preferred  \n",
              "0            Spanish  \n",
              "1            English  \n",
              "2            Spanish  \n",
              "3             French  \n",
              "4            Spanish  "
            ],
            "text/html": [
              "\n",
              "  <div id=\"df-01c2fa24-5513-450e-b022-188e537349e1\" class=\"colab-df-container\">\n",
              "    <div>\n",
              "<style scoped>\n",
              "    .dataframe tbody tr th:only-of-type {\n",
              "        vertical-align: middle;\n",
              "    }\n",
              "\n",
              "    .dataframe tbody tr th {\n",
              "        vertical-align: top;\n",
              "    }\n",
              "\n",
              "    .dataframe thead th {\n",
              "        text-align: right;\n",
              "    }\n",
              "</style>\n",
              "<table border=\"1\" class=\"dataframe\">\n",
              "  <thead>\n",
              "    <tr style=\"text-align: right;\">\n",
              "      <th></th>\n",
              "      <th>user_id</th>\n",
              "      <th>group</th>\n",
              "      <th>landing_page</th>\n",
              "      <th>time_spent_on_the_page</th>\n",
              "      <th>converted</th>\n",
              "      <th>language_preferred</th>\n",
              "    </tr>\n",
              "  </thead>\n",
              "  <tbody>\n",
              "    <tr>\n",
              "      <th>0</th>\n",
              "      <td>546592</td>\n",
              "      <td>control</td>\n",
              "      <td>old</td>\n",
              "      <td>3.48</td>\n",
              "      <td>no</td>\n",
              "      <td>Spanish</td>\n",
              "    </tr>\n",
              "    <tr>\n",
              "      <th>1</th>\n",
              "      <td>546468</td>\n",
              "      <td>treatment</td>\n",
              "      <td>new</td>\n",
              "      <td>7.13</td>\n",
              "      <td>yes</td>\n",
              "      <td>English</td>\n",
              "    </tr>\n",
              "    <tr>\n",
              "      <th>2</th>\n",
              "      <td>546462</td>\n",
              "      <td>treatment</td>\n",
              "      <td>new</td>\n",
              "      <td>4.40</td>\n",
              "      <td>no</td>\n",
              "      <td>Spanish</td>\n",
              "    </tr>\n",
              "    <tr>\n",
              "      <th>3</th>\n",
              "      <td>546567</td>\n",
              "      <td>control</td>\n",
              "      <td>old</td>\n",
              "      <td>3.02</td>\n",
              "      <td>no</td>\n",
              "      <td>French</td>\n",
              "    </tr>\n",
              "    <tr>\n",
              "      <th>4</th>\n",
              "      <td>546459</td>\n",
              "      <td>treatment</td>\n",
              "      <td>new</td>\n",
              "      <td>4.75</td>\n",
              "      <td>yes</td>\n",
              "      <td>Spanish</td>\n",
              "    </tr>\n",
              "  </tbody>\n",
              "</table>\n",
              "</div>\n",
              "    <div class=\"colab-df-buttons\">\n",
              "\n",
              "  <div class=\"colab-df-container\">\n",
              "    <button class=\"colab-df-convert\" onclick=\"convertToInteractive('df-01c2fa24-5513-450e-b022-188e537349e1')\"\n",
              "            title=\"Convert this dataframe to an interactive table.\"\n",
              "            style=\"display:none;\">\n",
              "\n",
              "  <svg xmlns=\"http://www.w3.org/2000/svg\" height=\"24px\" viewBox=\"0 -960 960 960\">\n",
              "    <path d=\"M120-120v-720h720v720H120Zm60-500h600v-160H180v160Zm220 220h160v-160H400v160Zm0 220h160v-160H400v160ZM180-400h160v-160H180v160Zm440 0h160v-160H620v160ZM180-180h160v-160H180v160Zm440 0h160v-160H620v160Z\"/>\n",
              "  </svg>\n",
              "    </button>\n",
              "\n",
              "  <style>\n",
              "    .colab-df-container {\n",
              "      display:flex;\n",
              "      gap: 12px;\n",
              "    }\n",
              "\n",
              "    .colab-df-convert {\n",
              "      background-color: #E8F0FE;\n",
              "      border: none;\n",
              "      border-radius: 50%;\n",
              "      cursor: pointer;\n",
              "      display: none;\n",
              "      fill: #1967D2;\n",
              "      height: 32px;\n",
              "      padding: 0 0 0 0;\n",
              "      width: 32px;\n",
              "    }\n",
              "\n",
              "    .colab-df-convert:hover {\n",
              "      background-color: #E2EBFA;\n",
              "      box-shadow: 0px 1px 2px rgba(60, 64, 67, 0.3), 0px 1px 3px 1px rgba(60, 64, 67, 0.15);\n",
              "      fill: #174EA6;\n",
              "    }\n",
              "\n",
              "    .colab-df-buttons div {\n",
              "      margin-bottom: 4px;\n",
              "    }\n",
              "\n",
              "    [theme=dark] .colab-df-convert {\n",
              "      background-color: #3B4455;\n",
              "      fill: #D2E3FC;\n",
              "    }\n",
              "\n",
              "    [theme=dark] .colab-df-convert:hover {\n",
              "      background-color: #434B5C;\n",
              "      box-shadow: 0px 1px 3px 1px rgba(0, 0, 0, 0.15);\n",
              "      filter: drop-shadow(0px 1px 2px rgba(0, 0, 0, 0.3));\n",
              "      fill: #FFFFFF;\n",
              "    }\n",
              "  </style>\n",
              "\n",
              "    <script>\n",
              "      const buttonEl =\n",
              "        document.querySelector('#df-01c2fa24-5513-450e-b022-188e537349e1 button.colab-df-convert');\n",
              "      buttonEl.style.display =\n",
              "        google.colab.kernel.accessAllowed ? 'block' : 'none';\n",
              "\n",
              "      async function convertToInteractive(key) {\n",
              "        const element = document.querySelector('#df-01c2fa24-5513-450e-b022-188e537349e1');\n",
              "        const dataTable =\n",
              "          await google.colab.kernel.invokeFunction('convertToInteractive',\n",
              "                                                    [key], {});\n",
              "        if (!dataTable) return;\n",
              "\n",
              "        const docLinkHtml = 'Like what you see? Visit the ' +\n",
              "          '<a target=\"_blank\" href=https://colab.research.google.com/notebooks/data_table.ipynb>data table notebook</a>'\n",
              "          + ' to learn more about interactive tables.';\n",
              "        element.innerHTML = '';\n",
              "        dataTable['output_type'] = 'display_data';\n",
              "        await google.colab.output.renderOutput(dataTable, element);\n",
              "        const docLink = document.createElement('div');\n",
              "        docLink.innerHTML = docLinkHtml;\n",
              "        element.appendChild(docLink);\n",
              "      }\n",
              "    </script>\n",
              "  </div>\n",
              "\n",
              "\n",
              "<div id=\"df-4ee79b55-80c3-4669-b76f-aa6af2087d52\">\n",
              "  <button class=\"colab-df-quickchart\" onclick=\"quickchart('df-4ee79b55-80c3-4669-b76f-aa6af2087d52')\"\n",
              "            title=\"Suggest charts\"\n",
              "            style=\"display:none;\">\n",
              "\n",
              "<svg xmlns=\"http://www.w3.org/2000/svg\" height=\"24px\"viewBox=\"0 0 24 24\"\n",
              "     width=\"24px\">\n",
              "    <g>\n",
              "        <path d=\"M19 3H5c-1.1 0-2 .9-2 2v14c0 1.1.9 2 2 2h14c1.1 0 2-.9 2-2V5c0-1.1-.9-2-2-2zM9 17H7v-7h2v7zm4 0h-2V7h2v10zm4 0h-2v-4h2v4z\"/>\n",
              "    </g>\n",
              "</svg>\n",
              "  </button>\n",
              "\n",
              "<style>\n",
              "  .colab-df-quickchart {\n",
              "      --bg-color: #E8F0FE;\n",
              "      --fill-color: #1967D2;\n",
              "      --hover-bg-color: #E2EBFA;\n",
              "      --hover-fill-color: #174EA6;\n",
              "      --disabled-fill-color: #AAA;\n",
              "      --disabled-bg-color: #DDD;\n",
              "  }\n",
              "\n",
              "  [theme=dark] .colab-df-quickchart {\n",
              "      --bg-color: #3B4455;\n",
              "      --fill-color: #D2E3FC;\n",
              "      --hover-bg-color: #434B5C;\n",
              "      --hover-fill-color: #FFFFFF;\n",
              "      --disabled-bg-color: #3B4455;\n",
              "      --disabled-fill-color: #666;\n",
              "  }\n",
              "\n",
              "  .colab-df-quickchart {\n",
              "    background-color: var(--bg-color);\n",
              "    border: none;\n",
              "    border-radius: 50%;\n",
              "    cursor: pointer;\n",
              "    display: none;\n",
              "    fill: var(--fill-color);\n",
              "    height: 32px;\n",
              "    padding: 0;\n",
              "    width: 32px;\n",
              "  }\n",
              "\n",
              "  .colab-df-quickchart:hover {\n",
              "    background-color: var(--hover-bg-color);\n",
              "    box-shadow: 0 1px 2px rgba(60, 64, 67, 0.3), 0 1px 3px 1px rgba(60, 64, 67, 0.15);\n",
              "    fill: var(--button-hover-fill-color);\n",
              "  }\n",
              "\n",
              "  .colab-df-quickchart-complete:disabled,\n",
              "  .colab-df-quickchart-complete:disabled:hover {\n",
              "    background-color: var(--disabled-bg-color);\n",
              "    fill: var(--disabled-fill-color);\n",
              "    box-shadow: none;\n",
              "  }\n",
              "\n",
              "  .colab-df-spinner {\n",
              "    border: 2px solid var(--fill-color);\n",
              "    border-color: transparent;\n",
              "    border-bottom-color: var(--fill-color);\n",
              "    animation:\n",
              "      spin 1s steps(1) infinite;\n",
              "  }\n",
              "\n",
              "  @keyframes spin {\n",
              "    0% {\n",
              "      border-color: transparent;\n",
              "      border-bottom-color: var(--fill-color);\n",
              "      border-left-color: var(--fill-color);\n",
              "    }\n",
              "    20% {\n",
              "      border-color: transparent;\n",
              "      border-left-color: var(--fill-color);\n",
              "      border-top-color: var(--fill-color);\n",
              "    }\n",
              "    30% {\n",
              "      border-color: transparent;\n",
              "      border-left-color: var(--fill-color);\n",
              "      border-top-color: var(--fill-color);\n",
              "      border-right-color: var(--fill-color);\n",
              "    }\n",
              "    40% {\n",
              "      border-color: transparent;\n",
              "      border-right-color: var(--fill-color);\n",
              "      border-top-color: var(--fill-color);\n",
              "    }\n",
              "    60% {\n",
              "      border-color: transparent;\n",
              "      border-right-color: var(--fill-color);\n",
              "    }\n",
              "    80% {\n",
              "      border-color: transparent;\n",
              "      border-right-color: var(--fill-color);\n",
              "      border-bottom-color: var(--fill-color);\n",
              "    }\n",
              "    90% {\n",
              "      border-color: transparent;\n",
              "      border-bottom-color: var(--fill-color);\n",
              "    }\n",
              "  }\n",
              "</style>\n",
              "\n",
              "  <script>\n",
              "    async function quickchart(key) {\n",
              "      const quickchartButtonEl =\n",
              "        document.querySelector('#' + key + ' button');\n",
              "      quickchartButtonEl.disabled = true;  // To prevent multiple clicks.\n",
              "      quickchartButtonEl.classList.add('colab-df-spinner');\n",
              "      try {\n",
              "        const charts = await google.colab.kernel.invokeFunction(\n",
              "            'suggestCharts', [key], {});\n",
              "      } catch (error) {\n",
              "        console.error('Error during call to suggestCharts:', error);\n",
              "      }\n",
              "      quickchartButtonEl.classList.remove('colab-df-spinner');\n",
              "      quickchartButtonEl.classList.add('colab-df-quickchart-complete');\n",
              "    }\n",
              "    (() => {\n",
              "      let quickchartButtonEl =\n",
              "        document.querySelector('#df-4ee79b55-80c3-4669-b76f-aa6af2087d52 button');\n",
              "      quickchartButtonEl.style.display =\n",
              "        google.colab.kernel.accessAllowed ? 'block' : 'none';\n",
              "    })();\n",
              "  </script>\n",
              "</div>\n",
              "\n",
              "    </div>\n",
              "  </div>\n"
            ],
            "application/vnd.google.colaboratory.intrinsic+json": {
              "type": "dataframe",
              "variable_name": "df",
              "summary": "{\n  \"name\": \"df\",\n  \"rows\": 100,\n  \"fields\": [\n    {\n      \"column\": \"user_id\",\n      \"properties\": {\n        \"dtype\": \"number\",\n        \"std\": 52,\n        \"min\": 546443,\n        \"max\": 546592,\n        \"num_unique_values\": 100,\n        \"samples\": [\n          546580,\n          546576,\n          546568\n        ],\n        \"semantic_type\": \"\",\n        \"description\": \"\"\n      }\n    },\n    {\n      \"column\": \"group\",\n      \"properties\": {\n        \"dtype\": \"category\",\n        \"num_unique_values\": 2,\n        \"samples\": [\n          \"treatment\",\n          \"control\"\n        ],\n        \"semantic_type\": \"\",\n        \"description\": \"\"\n      }\n    },\n    {\n      \"column\": \"landing_page\",\n      \"properties\": {\n        \"dtype\": \"category\",\n        \"num_unique_values\": 2,\n        \"samples\": [\n          \"new\",\n          \"old\"\n        ],\n        \"semantic_type\": \"\",\n        \"description\": \"\"\n      }\n    },\n    {\n      \"column\": \"time_spent_on_the_page\",\n      \"properties\": {\n        \"dtype\": \"number\",\n        \"std\": 2.378166078933492,\n        \"min\": 0.19,\n        \"max\": 10.71,\n        \"num_unique_values\": 94,\n        \"samples\": [\n          8.46,\n          3.65\n        ],\n        \"semantic_type\": \"\",\n        \"description\": \"\"\n      }\n    },\n    {\n      \"column\": \"converted\",\n      \"properties\": {\n        \"dtype\": \"category\",\n        \"num_unique_values\": 2,\n        \"samples\": [\n          \"yes\",\n          \"no\"\n        ],\n        \"semantic_type\": \"\",\n        \"description\": \"\"\n      }\n    },\n    {\n      \"column\": \"language_preferred\",\n      \"properties\": {\n        \"dtype\": \"category\",\n        \"num_unique_values\": 3,\n        \"samples\": [\n          \"Spanish\",\n          \"English\"\n        ],\n        \"semantic_type\": \"\",\n        \"description\": \"\"\n      }\n    }\n  ]\n}"
            }
          },
          "metadata": {},
          "execution_count": 4
        }
      ]
    },
    {
      "cell_type": "markdown",
      "source": [
        "Observations:\n",
        "\n",
        "The head() in Python is used to display the first few rows of a DataFrame. By default, it shows the first 5 rows."
      ],
      "metadata": {
        "id": "cOlekI_fl_sM"
      }
    },
    {
      "cell_type": "markdown",
      "source": [
        "### **Displaying the last few rows of the dataset**"
      ],
      "metadata": {
        "id": "LKDfuIQHmcZm"
      }
    },
    {
      "cell_type": "code",
      "source": [
        "# Code to view the last 5 rows of the dataset\n",
        "df.tail() # df.tail(5) => This also gives last 5 rows of dataset only."
      ],
      "metadata": {
        "colab": {
          "base_uri": "https://localhost:8080/",
          "height": 206
        },
        "id": "NKgvXQpsmDsH",
        "outputId": "ff187426-bc8f-43d9-b077-bc2af3840ad9"
      },
      "execution_count": 5,
      "outputs": [
        {
          "output_type": "execute_result",
          "data": {
            "text/plain": [
              "    user_id      group landing_page  time_spent_on_the_page converted  \\\n",
              "95   546446  treatment          new                    5.15        no   \n",
              "96   546544    control          old                    6.52       yes   \n",
              "97   546472  treatment          new                    7.07       yes   \n",
              "98   546481  treatment          new                    6.20       yes   \n",
              "99   546483  treatment          new                    5.86       yes   \n",
              "\n",
              "   language_preferred  \n",
              "95            Spanish  \n",
              "96            English  \n",
              "97            Spanish  \n",
              "98            Spanish  \n",
              "99            English  "
            ],
            "text/html": [
              "\n",
              "  <div id=\"df-183eedee-f885-412a-98c4-0b8ecc89f2f6\" class=\"colab-df-container\">\n",
              "    <div>\n",
              "<style scoped>\n",
              "    .dataframe tbody tr th:only-of-type {\n",
              "        vertical-align: middle;\n",
              "    }\n",
              "\n",
              "    .dataframe tbody tr th {\n",
              "        vertical-align: top;\n",
              "    }\n",
              "\n",
              "    .dataframe thead th {\n",
              "        text-align: right;\n",
              "    }\n",
              "</style>\n",
              "<table border=\"1\" class=\"dataframe\">\n",
              "  <thead>\n",
              "    <tr style=\"text-align: right;\">\n",
              "      <th></th>\n",
              "      <th>user_id</th>\n",
              "      <th>group</th>\n",
              "      <th>landing_page</th>\n",
              "      <th>time_spent_on_the_page</th>\n",
              "      <th>converted</th>\n",
              "      <th>language_preferred</th>\n",
              "    </tr>\n",
              "  </thead>\n",
              "  <tbody>\n",
              "    <tr>\n",
              "      <th>95</th>\n",
              "      <td>546446</td>\n",
              "      <td>treatment</td>\n",
              "      <td>new</td>\n",
              "      <td>5.15</td>\n",
              "      <td>no</td>\n",
              "      <td>Spanish</td>\n",
              "    </tr>\n",
              "    <tr>\n",
              "      <th>96</th>\n",
              "      <td>546544</td>\n",
              "      <td>control</td>\n",
              "      <td>old</td>\n",
              "      <td>6.52</td>\n",
              "      <td>yes</td>\n",
              "      <td>English</td>\n",
              "    </tr>\n",
              "    <tr>\n",
              "      <th>97</th>\n",
              "      <td>546472</td>\n",
              "      <td>treatment</td>\n",
              "      <td>new</td>\n",
              "      <td>7.07</td>\n",
              "      <td>yes</td>\n",
              "      <td>Spanish</td>\n",
              "    </tr>\n",
              "    <tr>\n",
              "      <th>98</th>\n",
              "      <td>546481</td>\n",
              "      <td>treatment</td>\n",
              "      <td>new</td>\n",
              "      <td>6.20</td>\n",
              "      <td>yes</td>\n",
              "      <td>Spanish</td>\n",
              "    </tr>\n",
              "    <tr>\n",
              "      <th>99</th>\n",
              "      <td>546483</td>\n",
              "      <td>treatment</td>\n",
              "      <td>new</td>\n",
              "      <td>5.86</td>\n",
              "      <td>yes</td>\n",
              "      <td>English</td>\n",
              "    </tr>\n",
              "  </tbody>\n",
              "</table>\n",
              "</div>\n",
              "    <div class=\"colab-df-buttons\">\n",
              "\n",
              "  <div class=\"colab-df-container\">\n",
              "    <button class=\"colab-df-convert\" onclick=\"convertToInteractive('df-183eedee-f885-412a-98c4-0b8ecc89f2f6')\"\n",
              "            title=\"Convert this dataframe to an interactive table.\"\n",
              "            style=\"display:none;\">\n",
              "\n",
              "  <svg xmlns=\"http://www.w3.org/2000/svg\" height=\"24px\" viewBox=\"0 -960 960 960\">\n",
              "    <path d=\"M120-120v-720h720v720H120Zm60-500h600v-160H180v160Zm220 220h160v-160H400v160Zm0 220h160v-160H400v160ZM180-400h160v-160H180v160Zm440 0h160v-160H620v160ZM180-180h160v-160H180v160Zm440 0h160v-160H620v160Z\"/>\n",
              "  </svg>\n",
              "    </button>\n",
              "\n",
              "  <style>\n",
              "    .colab-df-container {\n",
              "      display:flex;\n",
              "      gap: 12px;\n",
              "    }\n",
              "\n",
              "    .colab-df-convert {\n",
              "      background-color: #E8F0FE;\n",
              "      border: none;\n",
              "      border-radius: 50%;\n",
              "      cursor: pointer;\n",
              "      display: none;\n",
              "      fill: #1967D2;\n",
              "      height: 32px;\n",
              "      padding: 0 0 0 0;\n",
              "      width: 32px;\n",
              "    }\n",
              "\n",
              "    .colab-df-convert:hover {\n",
              "      background-color: #E2EBFA;\n",
              "      box-shadow: 0px 1px 2px rgba(60, 64, 67, 0.3), 0px 1px 3px 1px rgba(60, 64, 67, 0.15);\n",
              "      fill: #174EA6;\n",
              "    }\n",
              "\n",
              "    .colab-df-buttons div {\n",
              "      margin-bottom: 4px;\n",
              "    }\n",
              "\n",
              "    [theme=dark] .colab-df-convert {\n",
              "      background-color: #3B4455;\n",
              "      fill: #D2E3FC;\n",
              "    }\n",
              "\n",
              "    [theme=dark] .colab-df-convert:hover {\n",
              "      background-color: #434B5C;\n",
              "      box-shadow: 0px 1px 3px 1px rgba(0, 0, 0, 0.15);\n",
              "      filter: drop-shadow(0px 1px 2px rgba(0, 0, 0, 0.3));\n",
              "      fill: #FFFFFF;\n",
              "    }\n",
              "  </style>\n",
              "\n",
              "    <script>\n",
              "      const buttonEl =\n",
              "        document.querySelector('#df-183eedee-f885-412a-98c4-0b8ecc89f2f6 button.colab-df-convert');\n",
              "      buttonEl.style.display =\n",
              "        google.colab.kernel.accessAllowed ? 'block' : 'none';\n",
              "\n",
              "      async function convertToInteractive(key) {\n",
              "        const element = document.querySelector('#df-183eedee-f885-412a-98c4-0b8ecc89f2f6');\n",
              "        const dataTable =\n",
              "          await google.colab.kernel.invokeFunction('convertToInteractive',\n",
              "                                                    [key], {});\n",
              "        if (!dataTable) return;\n",
              "\n",
              "        const docLinkHtml = 'Like what you see? Visit the ' +\n",
              "          '<a target=\"_blank\" href=https://colab.research.google.com/notebooks/data_table.ipynb>data table notebook</a>'\n",
              "          + ' to learn more about interactive tables.';\n",
              "        element.innerHTML = '';\n",
              "        dataTable['output_type'] = 'display_data';\n",
              "        await google.colab.output.renderOutput(dataTable, element);\n",
              "        const docLink = document.createElement('div');\n",
              "        docLink.innerHTML = docLinkHtml;\n",
              "        element.appendChild(docLink);\n",
              "      }\n",
              "    </script>\n",
              "  </div>\n",
              "\n",
              "\n",
              "<div id=\"df-5f6160e1-b8a4-4fb7-a91b-9f91db4088df\">\n",
              "  <button class=\"colab-df-quickchart\" onclick=\"quickchart('df-5f6160e1-b8a4-4fb7-a91b-9f91db4088df')\"\n",
              "            title=\"Suggest charts\"\n",
              "            style=\"display:none;\">\n",
              "\n",
              "<svg xmlns=\"http://www.w3.org/2000/svg\" height=\"24px\"viewBox=\"0 0 24 24\"\n",
              "     width=\"24px\">\n",
              "    <g>\n",
              "        <path d=\"M19 3H5c-1.1 0-2 .9-2 2v14c0 1.1.9 2 2 2h14c1.1 0 2-.9 2-2V5c0-1.1-.9-2-2-2zM9 17H7v-7h2v7zm4 0h-2V7h2v10zm4 0h-2v-4h2v4z\"/>\n",
              "    </g>\n",
              "</svg>\n",
              "  </button>\n",
              "\n",
              "<style>\n",
              "  .colab-df-quickchart {\n",
              "      --bg-color: #E8F0FE;\n",
              "      --fill-color: #1967D2;\n",
              "      --hover-bg-color: #E2EBFA;\n",
              "      --hover-fill-color: #174EA6;\n",
              "      --disabled-fill-color: #AAA;\n",
              "      --disabled-bg-color: #DDD;\n",
              "  }\n",
              "\n",
              "  [theme=dark] .colab-df-quickchart {\n",
              "      --bg-color: #3B4455;\n",
              "      --fill-color: #D2E3FC;\n",
              "      --hover-bg-color: #434B5C;\n",
              "      --hover-fill-color: #FFFFFF;\n",
              "      --disabled-bg-color: #3B4455;\n",
              "      --disabled-fill-color: #666;\n",
              "  }\n",
              "\n",
              "  .colab-df-quickchart {\n",
              "    background-color: var(--bg-color);\n",
              "    border: none;\n",
              "    border-radius: 50%;\n",
              "    cursor: pointer;\n",
              "    display: none;\n",
              "    fill: var(--fill-color);\n",
              "    height: 32px;\n",
              "    padding: 0;\n",
              "    width: 32px;\n",
              "  }\n",
              "\n",
              "  .colab-df-quickchart:hover {\n",
              "    background-color: var(--hover-bg-color);\n",
              "    box-shadow: 0 1px 2px rgba(60, 64, 67, 0.3), 0 1px 3px 1px rgba(60, 64, 67, 0.15);\n",
              "    fill: var(--button-hover-fill-color);\n",
              "  }\n",
              "\n",
              "  .colab-df-quickchart-complete:disabled,\n",
              "  .colab-df-quickchart-complete:disabled:hover {\n",
              "    background-color: var(--disabled-bg-color);\n",
              "    fill: var(--disabled-fill-color);\n",
              "    box-shadow: none;\n",
              "  }\n",
              "\n",
              "  .colab-df-spinner {\n",
              "    border: 2px solid var(--fill-color);\n",
              "    border-color: transparent;\n",
              "    border-bottom-color: var(--fill-color);\n",
              "    animation:\n",
              "      spin 1s steps(1) infinite;\n",
              "  }\n",
              "\n",
              "  @keyframes spin {\n",
              "    0% {\n",
              "      border-color: transparent;\n",
              "      border-bottom-color: var(--fill-color);\n",
              "      border-left-color: var(--fill-color);\n",
              "    }\n",
              "    20% {\n",
              "      border-color: transparent;\n",
              "      border-left-color: var(--fill-color);\n",
              "      border-top-color: var(--fill-color);\n",
              "    }\n",
              "    30% {\n",
              "      border-color: transparent;\n",
              "      border-left-color: var(--fill-color);\n",
              "      border-top-color: var(--fill-color);\n",
              "      border-right-color: var(--fill-color);\n",
              "    }\n",
              "    40% {\n",
              "      border-color: transparent;\n",
              "      border-right-color: var(--fill-color);\n",
              "      border-top-color: var(--fill-color);\n",
              "    }\n",
              "    60% {\n",
              "      border-color: transparent;\n",
              "      border-right-color: var(--fill-color);\n",
              "    }\n",
              "    80% {\n",
              "      border-color: transparent;\n",
              "      border-right-color: var(--fill-color);\n",
              "      border-bottom-color: var(--fill-color);\n",
              "    }\n",
              "    90% {\n",
              "      border-color: transparent;\n",
              "      border-bottom-color: var(--fill-color);\n",
              "    }\n",
              "  }\n",
              "</style>\n",
              "\n",
              "  <script>\n",
              "    async function quickchart(key) {\n",
              "      const quickchartButtonEl =\n",
              "        document.querySelector('#' + key + ' button');\n",
              "      quickchartButtonEl.disabled = true;  // To prevent multiple clicks.\n",
              "      quickchartButtonEl.classList.add('colab-df-spinner');\n",
              "      try {\n",
              "        const charts = await google.colab.kernel.invokeFunction(\n",
              "            'suggestCharts', [key], {});\n",
              "      } catch (error) {\n",
              "        console.error('Error during call to suggestCharts:', error);\n",
              "      }\n",
              "      quickchartButtonEl.classList.remove('colab-df-spinner');\n",
              "      quickchartButtonEl.classList.add('colab-df-quickchart-complete');\n",
              "    }\n",
              "    (() => {\n",
              "      let quickchartButtonEl =\n",
              "        document.querySelector('#df-5f6160e1-b8a4-4fb7-a91b-9f91db4088df button');\n",
              "      quickchartButtonEl.style.display =\n",
              "        google.colab.kernel.accessAllowed ? 'block' : 'none';\n",
              "    })();\n",
              "  </script>\n",
              "</div>\n",
              "\n",
              "    </div>\n",
              "  </div>\n"
            ],
            "application/vnd.google.colaboratory.intrinsic+json": {
              "type": "dataframe",
              "summary": "{\n  \"name\": \"df\",\n  \"rows\": 5,\n  \"fields\": [\n    {\n      \"column\": \"user_id\",\n      \"properties\": {\n        \"dtype\": \"number\",\n        \"std\": 36,\n        \"min\": 546446,\n        \"max\": 546544,\n        \"num_unique_values\": 5,\n        \"samples\": [\n          546544,\n          546483,\n          546472\n        ],\n        \"semantic_type\": \"\",\n        \"description\": \"\"\n      }\n    },\n    {\n      \"column\": \"group\",\n      \"properties\": {\n        \"dtype\": \"category\",\n        \"num_unique_values\": 2,\n        \"samples\": [\n          \"control\",\n          \"treatment\"\n        ],\n        \"semantic_type\": \"\",\n        \"description\": \"\"\n      }\n    },\n    {\n      \"column\": \"landing_page\",\n      \"properties\": {\n        \"dtype\": \"category\",\n        \"num_unique_values\": 2,\n        \"samples\": [\n          \"old\",\n          \"new\"\n        ],\n        \"semantic_type\": \"\",\n        \"description\": \"\"\n      }\n    },\n    {\n      \"column\": \"time_spent_on_the_page\",\n      \"properties\": {\n        \"dtype\": \"number\",\n        \"std\": 0.7192704637339141,\n        \"min\": 5.15,\n        \"max\": 7.07,\n        \"num_unique_values\": 5,\n        \"samples\": [\n          6.52,\n          5.86\n        ],\n        \"semantic_type\": \"\",\n        \"description\": \"\"\n      }\n    },\n    {\n      \"column\": \"converted\",\n      \"properties\": {\n        \"dtype\": \"category\",\n        \"num_unique_values\": 2,\n        \"samples\": [\n          \"yes\",\n          \"no\"\n        ],\n        \"semantic_type\": \"\",\n        \"description\": \"\"\n      }\n    },\n    {\n      \"column\": \"language_preferred\",\n      \"properties\": {\n        \"dtype\": \"category\",\n        \"num_unique_values\": 2,\n        \"samples\": [\n          \"English\",\n          \"Spanish\"\n        ],\n        \"semantic_type\": \"\",\n        \"description\": \"\"\n      }\n    }\n  ]\n}"
            }
          },
          "metadata": {},
          "execution_count": 5
        }
      ]
    },
    {
      "cell_type": "markdown",
      "source": [
        "Observation:\n",
        "\n",
        "The tail function helps in Displaying the last few rows of the dataset."
      ],
      "metadata": {
        "id": "RlR0yVQWiEsP"
      }
    },
    {
      "cell_type": "markdown",
      "source": [
        "### **Checking the shape of the dataset**"
      ],
      "metadata": {
        "id": "RcX4hC8an8OL"
      }
    },
    {
      "cell_type": "code",
      "source": [
        "# view the shape of the dataset\n",
        "df.shape"
      ],
      "metadata": {
        "colab": {
          "base_uri": "https://localhost:8080/"
        },
        "id": "KUs2R8-Dm_Bi",
        "outputId": "423896c8-303e-4f36-cef4-11a4a2db04f9"
      },
      "execution_count": 6,
      "outputs": [
        {
          "output_type": "execute_result",
          "data": {
            "text/plain": [
              "(100, 6)"
            ]
          },
          "metadata": {},
          "execution_count": 6
        }
      ]
    },
    {
      "cell_type": "markdown",
      "source": [
        "Observations:\n",
        "There are 100 rows and 6 columns."
      ],
      "metadata": {
        "id": "BgLND_ElOzLf"
      }
    },
    {
      "cell_type": "markdown",
      "source": [
        "### **Checking datatypes of different columns in dataset**"
      ],
      "metadata": {
        "id": "FkgwaNuOtKk6"
      }
    },
    {
      "cell_type": "code",
      "source": [
        "df.info()"
      ],
      "metadata": {
        "colab": {
          "base_uri": "https://localhost:8080/"
        },
        "id": "2Kgjd7LxoZFc",
        "outputId": "bdcbbbf0-51a0-4cef-e70a-2171cd62d2be"
      },
      "execution_count": 7,
      "outputs": [
        {
          "output_type": "stream",
          "name": "stdout",
          "text": [
            "<class 'pandas.core.frame.DataFrame'>\n",
            "RangeIndex: 100 entries, 0 to 99\n",
            "Data columns (total 6 columns):\n",
            " #   Column                  Non-Null Count  Dtype  \n",
            "---  ------                  --------------  -----  \n",
            " 0   user_id                 100 non-null    int64  \n",
            " 1   group                   100 non-null    object \n",
            " 2   landing_page            100 non-null    object \n",
            " 3   time_spent_on_the_page  100 non-null    float64\n",
            " 4   converted               100 non-null    object \n",
            " 5   language_preferred      100 non-null    object \n",
            "dtypes: float64(1), int64(1), object(4)\n",
            "memory usage: 4.8+ KB\n"
          ]
        }
      ]
    },
    {
      "cell_type": "markdown",
      "source": [
        "Observations:\n",
        "1. The info() function in Pandas provides a concise summary of a DataFrame. It includes useful information such as: The number of rows and columns.\n",
        "2. The names of the columns.The data type of each column,The number of non-null (non-missing) entries in each column.Memory usage of the DataFrame.\n"
      ],
      "metadata": {
        "id": "fhWVFe8oOQjb"
      }
    },
    {
      "cell_type": "markdown",
      "source": [
        "### **Getting the statistical summary for the variables**"
      ],
      "metadata": {
        "id": "9KKXG0T5tb46"
      }
    },
    {
      "cell_type": "code",
      "source": [
        "df.describe().T"
      ],
      "metadata": {
        "colab": {
          "base_uri": "https://localhost:8080/",
          "height": 132
        },
        "id": "EaguBIs_tjfo",
        "outputId": "972ee0c5-38a7-4e4f-f3b2-8d02049cf95c"
      },
      "execution_count": 8,
      "outputs": [
        {
          "output_type": "execute_result",
          "data": {
            "text/plain": [
              "                        count         mean        std        min        25%  \\\n",
              "user_id                 100.0  546517.0000  52.295779  546443.00  546467.75   \n",
              "time_spent_on_the_page  100.0       5.3778   2.378166       0.19       3.88   \n",
              "\n",
              "                               50%          75%        max  \n",
              "user_id                 546492.500  546567.2500  546592.00  \n",
              "time_spent_on_the_page       5.415       7.0225      10.71  "
            ],
            "text/html": [
              "\n",
              "  <div id=\"df-a38384b9-e97c-4312-9182-a3d14575c8f5\" class=\"colab-df-container\">\n",
              "    <div>\n",
              "<style scoped>\n",
              "    .dataframe tbody tr th:only-of-type {\n",
              "        vertical-align: middle;\n",
              "    }\n",
              "\n",
              "    .dataframe tbody tr th {\n",
              "        vertical-align: top;\n",
              "    }\n",
              "\n",
              "    .dataframe thead th {\n",
              "        text-align: right;\n",
              "    }\n",
              "</style>\n",
              "<table border=\"1\" class=\"dataframe\">\n",
              "  <thead>\n",
              "    <tr style=\"text-align: right;\">\n",
              "      <th></th>\n",
              "      <th>count</th>\n",
              "      <th>mean</th>\n",
              "      <th>std</th>\n",
              "      <th>min</th>\n",
              "      <th>25%</th>\n",
              "      <th>50%</th>\n",
              "      <th>75%</th>\n",
              "      <th>max</th>\n",
              "    </tr>\n",
              "  </thead>\n",
              "  <tbody>\n",
              "    <tr>\n",
              "      <th>user_id</th>\n",
              "      <td>100.0</td>\n",
              "      <td>546517.0000</td>\n",
              "      <td>52.295779</td>\n",
              "      <td>546443.00</td>\n",
              "      <td>546467.75</td>\n",
              "      <td>546492.500</td>\n",
              "      <td>546567.2500</td>\n",
              "      <td>546592.00</td>\n",
              "    </tr>\n",
              "    <tr>\n",
              "      <th>time_spent_on_the_page</th>\n",
              "      <td>100.0</td>\n",
              "      <td>5.3778</td>\n",
              "      <td>2.378166</td>\n",
              "      <td>0.19</td>\n",
              "      <td>3.88</td>\n",
              "      <td>5.415</td>\n",
              "      <td>7.0225</td>\n",
              "      <td>10.71</td>\n",
              "    </tr>\n",
              "  </tbody>\n",
              "</table>\n",
              "</div>\n",
              "    <div class=\"colab-df-buttons\">\n",
              "\n",
              "  <div class=\"colab-df-container\">\n",
              "    <button class=\"colab-df-convert\" onclick=\"convertToInteractive('df-a38384b9-e97c-4312-9182-a3d14575c8f5')\"\n",
              "            title=\"Convert this dataframe to an interactive table.\"\n",
              "            style=\"display:none;\">\n",
              "\n",
              "  <svg xmlns=\"http://www.w3.org/2000/svg\" height=\"24px\" viewBox=\"0 -960 960 960\">\n",
              "    <path d=\"M120-120v-720h720v720H120Zm60-500h600v-160H180v160Zm220 220h160v-160H400v160Zm0 220h160v-160H400v160ZM180-400h160v-160H180v160Zm440 0h160v-160H620v160ZM180-180h160v-160H180v160Zm440 0h160v-160H620v160Z\"/>\n",
              "  </svg>\n",
              "    </button>\n",
              "\n",
              "  <style>\n",
              "    .colab-df-container {\n",
              "      display:flex;\n",
              "      gap: 12px;\n",
              "    }\n",
              "\n",
              "    .colab-df-convert {\n",
              "      background-color: #E8F0FE;\n",
              "      border: none;\n",
              "      border-radius: 50%;\n",
              "      cursor: pointer;\n",
              "      display: none;\n",
              "      fill: #1967D2;\n",
              "      height: 32px;\n",
              "      padding: 0 0 0 0;\n",
              "      width: 32px;\n",
              "    }\n",
              "\n",
              "    .colab-df-convert:hover {\n",
              "      background-color: #E2EBFA;\n",
              "      box-shadow: 0px 1px 2px rgba(60, 64, 67, 0.3), 0px 1px 3px 1px rgba(60, 64, 67, 0.15);\n",
              "      fill: #174EA6;\n",
              "    }\n",
              "\n",
              "    .colab-df-buttons div {\n",
              "      margin-bottom: 4px;\n",
              "    }\n",
              "\n",
              "    [theme=dark] .colab-df-convert {\n",
              "      background-color: #3B4455;\n",
              "      fill: #D2E3FC;\n",
              "    }\n",
              "\n",
              "    [theme=dark] .colab-df-convert:hover {\n",
              "      background-color: #434B5C;\n",
              "      box-shadow: 0px 1px 3px 1px rgba(0, 0, 0, 0.15);\n",
              "      filter: drop-shadow(0px 1px 2px rgba(0, 0, 0, 0.3));\n",
              "      fill: #FFFFFF;\n",
              "    }\n",
              "  </style>\n",
              "\n",
              "    <script>\n",
              "      const buttonEl =\n",
              "        document.querySelector('#df-a38384b9-e97c-4312-9182-a3d14575c8f5 button.colab-df-convert');\n",
              "      buttonEl.style.display =\n",
              "        google.colab.kernel.accessAllowed ? 'block' : 'none';\n",
              "\n",
              "      async function convertToInteractive(key) {\n",
              "        const element = document.querySelector('#df-a38384b9-e97c-4312-9182-a3d14575c8f5');\n",
              "        const dataTable =\n",
              "          await google.colab.kernel.invokeFunction('convertToInteractive',\n",
              "                                                    [key], {});\n",
              "        if (!dataTable) return;\n",
              "\n",
              "        const docLinkHtml = 'Like what you see? Visit the ' +\n",
              "          '<a target=\"_blank\" href=https://colab.research.google.com/notebooks/data_table.ipynb>data table notebook</a>'\n",
              "          + ' to learn more about interactive tables.';\n",
              "        element.innerHTML = '';\n",
              "        dataTable['output_type'] = 'display_data';\n",
              "        await google.colab.output.renderOutput(dataTable, element);\n",
              "        const docLink = document.createElement('div');\n",
              "        docLink.innerHTML = docLinkHtml;\n",
              "        element.appendChild(docLink);\n",
              "      }\n",
              "    </script>\n",
              "  </div>\n",
              "\n",
              "\n",
              "<div id=\"df-d59d09ad-9df6-4352-8699-5381ec8350f2\">\n",
              "  <button class=\"colab-df-quickchart\" onclick=\"quickchart('df-d59d09ad-9df6-4352-8699-5381ec8350f2')\"\n",
              "            title=\"Suggest charts\"\n",
              "            style=\"display:none;\">\n",
              "\n",
              "<svg xmlns=\"http://www.w3.org/2000/svg\" height=\"24px\"viewBox=\"0 0 24 24\"\n",
              "     width=\"24px\">\n",
              "    <g>\n",
              "        <path d=\"M19 3H5c-1.1 0-2 .9-2 2v14c0 1.1.9 2 2 2h14c1.1 0 2-.9 2-2V5c0-1.1-.9-2-2-2zM9 17H7v-7h2v7zm4 0h-2V7h2v10zm4 0h-2v-4h2v4z\"/>\n",
              "    </g>\n",
              "</svg>\n",
              "  </button>\n",
              "\n",
              "<style>\n",
              "  .colab-df-quickchart {\n",
              "      --bg-color: #E8F0FE;\n",
              "      --fill-color: #1967D2;\n",
              "      --hover-bg-color: #E2EBFA;\n",
              "      --hover-fill-color: #174EA6;\n",
              "      --disabled-fill-color: #AAA;\n",
              "      --disabled-bg-color: #DDD;\n",
              "  }\n",
              "\n",
              "  [theme=dark] .colab-df-quickchart {\n",
              "      --bg-color: #3B4455;\n",
              "      --fill-color: #D2E3FC;\n",
              "      --hover-bg-color: #434B5C;\n",
              "      --hover-fill-color: #FFFFFF;\n",
              "      --disabled-bg-color: #3B4455;\n",
              "      --disabled-fill-color: #666;\n",
              "  }\n",
              "\n",
              "  .colab-df-quickchart {\n",
              "    background-color: var(--bg-color);\n",
              "    border: none;\n",
              "    border-radius: 50%;\n",
              "    cursor: pointer;\n",
              "    display: none;\n",
              "    fill: var(--fill-color);\n",
              "    height: 32px;\n",
              "    padding: 0;\n",
              "    width: 32px;\n",
              "  }\n",
              "\n",
              "  .colab-df-quickchart:hover {\n",
              "    background-color: var(--hover-bg-color);\n",
              "    box-shadow: 0 1px 2px rgba(60, 64, 67, 0.3), 0 1px 3px 1px rgba(60, 64, 67, 0.15);\n",
              "    fill: var(--button-hover-fill-color);\n",
              "  }\n",
              "\n",
              "  .colab-df-quickchart-complete:disabled,\n",
              "  .colab-df-quickchart-complete:disabled:hover {\n",
              "    background-color: var(--disabled-bg-color);\n",
              "    fill: var(--disabled-fill-color);\n",
              "    box-shadow: none;\n",
              "  }\n",
              "\n",
              "  .colab-df-spinner {\n",
              "    border: 2px solid var(--fill-color);\n",
              "    border-color: transparent;\n",
              "    border-bottom-color: var(--fill-color);\n",
              "    animation:\n",
              "      spin 1s steps(1) infinite;\n",
              "  }\n",
              "\n",
              "  @keyframes spin {\n",
              "    0% {\n",
              "      border-color: transparent;\n",
              "      border-bottom-color: var(--fill-color);\n",
              "      border-left-color: var(--fill-color);\n",
              "    }\n",
              "    20% {\n",
              "      border-color: transparent;\n",
              "      border-left-color: var(--fill-color);\n",
              "      border-top-color: var(--fill-color);\n",
              "    }\n",
              "    30% {\n",
              "      border-color: transparent;\n",
              "      border-left-color: var(--fill-color);\n",
              "      border-top-color: var(--fill-color);\n",
              "      border-right-color: var(--fill-color);\n",
              "    }\n",
              "    40% {\n",
              "      border-color: transparent;\n",
              "      border-right-color: var(--fill-color);\n",
              "      border-top-color: var(--fill-color);\n",
              "    }\n",
              "    60% {\n",
              "      border-color: transparent;\n",
              "      border-right-color: var(--fill-color);\n",
              "    }\n",
              "    80% {\n",
              "      border-color: transparent;\n",
              "      border-right-color: var(--fill-color);\n",
              "      border-bottom-color: var(--fill-color);\n",
              "    }\n",
              "    90% {\n",
              "      border-color: transparent;\n",
              "      border-bottom-color: var(--fill-color);\n",
              "    }\n",
              "  }\n",
              "</style>\n",
              "\n",
              "  <script>\n",
              "    async function quickchart(key) {\n",
              "      const quickchartButtonEl =\n",
              "        document.querySelector('#' + key + ' button');\n",
              "      quickchartButtonEl.disabled = true;  // To prevent multiple clicks.\n",
              "      quickchartButtonEl.classList.add('colab-df-spinner');\n",
              "      try {\n",
              "        const charts = await google.colab.kernel.invokeFunction(\n",
              "            'suggestCharts', [key], {});\n",
              "      } catch (error) {\n",
              "        console.error('Error during call to suggestCharts:', error);\n",
              "      }\n",
              "      quickchartButtonEl.classList.remove('colab-df-spinner');\n",
              "      quickchartButtonEl.classList.add('colab-df-quickchart-complete');\n",
              "    }\n",
              "    (() => {\n",
              "      let quickchartButtonEl =\n",
              "        document.querySelector('#df-d59d09ad-9df6-4352-8699-5381ec8350f2 button');\n",
              "      quickchartButtonEl.style.display =\n",
              "        google.colab.kernel.accessAllowed ? 'block' : 'none';\n",
              "    })();\n",
              "  </script>\n",
              "</div>\n",
              "\n",
              "    </div>\n",
              "  </div>\n"
            ],
            "application/vnd.google.colaboratory.intrinsic+json": {
              "type": "dataframe",
              "summary": "{\n  \"name\": \"df\",\n  \"rows\": 2,\n  \"fields\": [\n    {\n      \"column\": \"count\",\n      \"properties\": {\n        \"dtype\": \"number\",\n        \"std\": 0.0,\n        \"min\": 100.0,\n        \"max\": 100.0,\n        \"num_unique_values\": 1,\n        \"samples\": [\n          100.0\n        ],\n        \"semantic_type\": \"\",\n        \"description\": \"\"\n      }\n    },\n    {\n      \"column\": \"mean\",\n      \"properties\": {\n        \"dtype\": \"number\",\n        \"std\": 386442.07405488053,\n        \"min\": 5.377800000000001,\n        \"max\": 546517.0,\n        \"num_unique_values\": 2,\n        \"samples\": [\n          5.377800000000001\n        ],\n        \"semantic_type\": \"\",\n        \"description\": \"\"\n      }\n    },\n    {\n      \"column\": \"std\",\n      \"properties\": {\n        \"dtype\": \"number\",\n        \"std\": 35.29708248647065,\n        \"min\": 2.378166078933492,\n        \"max\": 52.29577884350213,\n        \"num_unique_values\": 2,\n        \"samples\": [\n          2.378166078933492\n        ],\n        \"semantic_type\": \"\",\n        \"description\": \"\"\n      }\n    },\n    {\n      \"column\": \"min\",\n      \"properties\": {\n        \"dtype\": \"number\",\n        \"std\": 386393.41648163216,\n        \"min\": 0.19,\n        \"max\": 546443.0,\n        \"num_unique_values\": 2,\n        \"samples\": [\n          0.19\n        ],\n        \"semantic_type\": \"\",\n        \"description\": \"\"\n      }\n    },\n    {\n      \"column\": \"25%\",\n      \"properties\": {\n        \"dtype\": \"number\",\n        \"std\": 386408.30815044395,\n        \"min\": 3.88,\n        \"max\": 546467.75,\n        \"num_unique_values\": 2,\n        \"samples\": [\n          3.88\n        ],\n        \"semantic_type\": \"\",\n        \"description\": \"\"\n      }\n    },\n    {\n      \"column\": \"50%\",\n      \"properties\": {\n        \"dtype\": \"number\",\n        \"std\": 386424.7236343692,\n        \"min\": 5.415,\n        \"max\": 546492.5,\n        \"num_unique_values\": 2,\n        \"samples\": [\n          5.415\n        ],\n        \"semantic_type\": \"\",\n        \"description\": \"\"\n      }\n    },\n    {\n      \"column\": \"75%\",\n      \"properties\": {\n        \"dtype\": \"number\",\n        \"std\": 386476.44319211214,\n        \"min\": 7.0225,\n        \"max\": 546567.25,\n        \"num_unique_values\": 2,\n        \"samples\": [\n          7.0225\n        ],\n        \"semantic_type\": \"\",\n        \"description\": \"\"\n      }\n    },\n    {\n      \"column\": \"max\",\n      \"properties\": {\n        \"dtype\": \"number\",\n        \"std\": 386491.3366286909,\n        \"min\": 10.71,\n        \"max\": 546592.0,\n        \"num_unique_values\": 2,\n        \"samples\": [\n          10.71\n        ],\n        \"semantic_type\": \"\",\n        \"description\": \"\"\n      }\n    }\n  ]\n}"
            }
          },
          "metadata": {},
          "execution_count": 8
        }
      ]
    },
    {
      "cell_type": "markdown",
      "source": [
        "Observation:\n",
        "\n",
        "When you use the df.describe().T function on your DataFrame in pandas, it provides a summary of central tendency and dispersion of the dataset. Here's how you can interpret each part of the output:\n",
        "\n",
        "\n",
        "count: This shows the number of non-null entries for each column. It's useful to determine if there are any missing values in the dataset.\n",
        "\n",
        "\n",
        "mean: This represents the average value for each numeric column.\n",
        "\n",
        "\n",
        "std: The standard deviation, which quantifies the amount of variation or dispersion in the dataset. A higher standard deviation indicates more spread out data points.\n",
        "\n",
        "\n",
        "min: This is the smallest number in each column.\n",
        "\n",
        "\n",
        "25% (1st quartile): This is the value below which 25% of the data falls. It helps in understanding the lower range of the data.\n",
        "\n",
        "\n",
        "50% (median): The middle value when the dataset is ordered. It's useful to understand the central point of the data.\n",
        "\n",
        "\n",
        "75% (3rd quartile): This is the value below which 75% of the data falls. It helps in understanding the upper range of the data.\n",
        "\n",
        "\n",
        "max: The largest number in each column."
      ],
      "metadata": {
        "id": "ppY-gYmMibR5"
      }
    },
    {
      "cell_type": "code",
      "source": [
        "df.describe()"
      ],
      "metadata": {
        "colab": {
          "base_uri": "https://localhost:8080/",
          "height": 300
        },
        "id": "aaVCglMit36x",
        "outputId": "8a890eb8-0d1e-4c79-a058-560f396eccc9"
      },
      "execution_count": 9,
      "outputs": [
        {
          "output_type": "execute_result",
          "data": {
            "text/plain": [
              "             user_id  time_spent_on_the_page\n",
              "count     100.000000              100.000000\n",
              "mean   546517.000000                5.377800\n",
              "std        52.295779                2.378166\n",
              "min    546443.000000                0.190000\n",
              "25%    546467.750000                3.880000\n",
              "50%    546492.500000                5.415000\n",
              "75%    546567.250000                7.022500\n",
              "max    546592.000000               10.710000"
            ],
            "text/html": [
              "\n",
              "  <div id=\"df-df1ca3ca-37fb-433e-ad9e-8e65b88303a8\" class=\"colab-df-container\">\n",
              "    <div>\n",
              "<style scoped>\n",
              "    .dataframe tbody tr th:only-of-type {\n",
              "        vertical-align: middle;\n",
              "    }\n",
              "\n",
              "    .dataframe tbody tr th {\n",
              "        vertical-align: top;\n",
              "    }\n",
              "\n",
              "    .dataframe thead th {\n",
              "        text-align: right;\n",
              "    }\n",
              "</style>\n",
              "<table border=\"1\" class=\"dataframe\">\n",
              "  <thead>\n",
              "    <tr style=\"text-align: right;\">\n",
              "      <th></th>\n",
              "      <th>user_id</th>\n",
              "      <th>time_spent_on_the_page</th>\n",
              "    </tr>\n",
              "  </thead>\n",
              "  <tbody>\n",
              "    <tr>\n",
              "      <th>count</th>\n",
              "      <td>100.000000</td>\n",
              "      <td>100.000000</td>\n",
              "    </tr>\n",
              "    <tr>\n",
              "      <th>mean</th>\n",
              "      <td>546517.000000</td>\n",
              "      <td>5.377800</td>\n",
              "    </tr>\n",
              "    <tr>\n",
              "      <th>std</th>\n",
              "      <td>52.295779</td>\n",
              "      <td>2.378166</td>\n",
              "    </tr>\n",
              "    <tr>\n",
              "      <th>min</th>\n",
              "      <td>546443.000000</td>\n",
              "      <td>0.190000</td>\n",
              "    </tr>\n",
              "    <tr>\n",
              "      <th>25%</th>\n",
              "      <td>546467.750000</td>\n",
              "      <td>3.880000</td>\n",
              "    </tr>\n",
              "    <tr>\n",
              "      <th>50%</th>\n",
              "      <td>546492.500000</td>\n",
              "      <td>5.415000</td>\n",
              "    </tr>\n",
              "    <tr>\n",
              "      <th>75%</th>\n",
              "      <td>546567.250000</td>\n",
              "      <td>7.022500</td>\n",
              "    </tr>\n",
              "    <tr>\n",
              "      <th>max</th>\n",
              "      <td>546592.000000</td>\n",
              "      <td>10.710000</td>\n",
              "    </tr>\n",
              "  </tbody>\n",
              "</table>\n",
              "</div>\n",
              "    <div class=\"colab-df-buttons\">\n",
              "\n",
              "  <div class=\"colab-df-container\">\n",
              "    <button class=\"colab-df-convert\" onclick=\"convertToInteractive('df-df1ca3ca-37fb-433e-ad9e-8e65b88303a8')\"\n",
              "            title=\"Convert this dataframe to an interactive table.\"\n",
              "            style=\"display:none;\">\n",
              "\n",
              "  <svg xmlns=\"http://www.w3.org/2000/svg\" height=\"24px\" viewBox=\"0 -960 960 960\">\n",
              "    <path d=\"M120-120v-720h720v720H120Zm60-500h600v-160H180v160Zm220 220h160v-160H400v160Zm0 220h160v-160H400v160ZM180-400h160v-160H180v160Zm440 0h160v-160H620v160ZM180-180h160v-160H180v160Zm440 0h160v-160H620v160Z\"/>\n",
              "  </svg>\n",
              "    </button>\n",
              "\n",
              "  <style>\n",
              "    .colab-df-container {\n",
              "      display:flex;\n",
              "      gap: 12px;\n",
              "    }\n",
              "\n",
              "    .colab-df-convert {\n",
              "      background-color: #E8F0FE;\n",
              "      border: none;\n",
              "      border-radius: 50%;\n",
              "      cursor: pointer;\n",
              "      display: none;\n",
              "      fill: #1967D2;\n",
              "      height: 32px;\n",
              "      padding: 0 0 0 0;\n",
              "      width: 32px;\n",
              "    }\n",
              "\n",
              "    .colab-df-convert:hover {\n",
              "      background-color: #E2EBFA;\n",
              "      box-shadow: 0px 1px 2px rgba(60, 64, 67, 0.3), 0px 1px 3px 1px rgba(60, 64, 67, 0.15);\n",
              "      fill: #174EA6;\n",
              "    }\n",
              "\n",
              "    .colab-df-buttons div {\n",
              "      margin-bottom: 4px;\n",
              "    }\n",
              "\n",
              "    [theme=dark] .colab-df-convert {\n",
              "      background-color: #3B4455;\n",
              "      fill: #D2E3FC;\n",
              "    }\n",
              "\n",
              "    [theme=dark] .colab-df-convert:hover {\n",
              "      background-color: #434B5C;\n",
              "      box-shadow: 0px 1px 3px 1px rgba(0, 0, 0, 0.15);\n",
              "      filter: drop-shadow(0px 1px 2px rgba(0, 0, 0, 0.3));\n",
              "      fill: #FFFFFF;\n",
              "    }\n",
              "  </style>\n",
              "\n",
              "    <script>\n",
              "      const buttonEl =\n",
              "        document.querySelector('#df-df1ca3ca-37fb-433e-ad9e-8e65b88303a8 button.colab-df-convert');\n",
              "      buttonEl.style.display =\n",
              "        google.colab.kernel.accessAllowed ? 'block' : 'none';\n",
              "\n",
              "      async function convertToInteractive(key) {\n",
              "        const element = document.querySelector('#df-df1ca3ca-37fb-433e-ad9e-8e65b88303a8');\n",
              "        const dataTable =\n",
              "          await google.colab.kernel.invokeFunction('convertToInteractive',\n",
              "                                                    [key], {});\n",
              "        if (!dataTable) return;\n",
              "\n",
              "        const docLinkHtml = 'Like what you see? Visit the ' +\n",
              "          '<a target=\"_blank\" href=https://colab.research.google.com/notebooks/data_table.ipynb>data table notebook</a>'\n",
              "          + ' to learn more about interactive tables.';\n",
              "        element.innerHTML = '';\n",
              "        dataTable['output_type'] = 'display_data';\n",
              "        await google.colab.output.renderOutput(dataTable, element);\n",
              "        const docLink = document.createElement('div');\n",
              "        docLink.innerHTML = docLinkHtml;\n",
              "        element.appendChild(docLink);\n",
              "      }\n",
              "    </script>\n",
              "  </div>\n",
              "\n",
              "\n",
              "<div id=\"df-b5ee182b-a4fc-47e7-b385-cc86fa43c93d\">\n",
              "  <button class=\"colab-df-quickchart\" onclick=\"quickchart('df-b5ee182b-a4fc-47e7-b385-cc86fa43c93d')\"\n",
              "            title=\"Suggest charts\"\n",
              "            style=\"display:none;\">\n",
              "\n",
              "<svg xmlns=\"http://www.w3.org/2000/svg\" height=\"24px\"viewBox=\"0 0 24 24\"\n",
              "     width=\"24px\">\n",
              "    <g>\n",
              "        <path d=\"M19 3H5c-1.1 0-2 .9-2 2v14c0 1.1.9 2 2 2h14c1.1 0 2-.9 2-2V5c0-1.1-.9-2-2-2zM9 17H7v-7h2v7zm4 0h-2V7h2v10zm4 0h-2v-4h2v4z\"/>\n",
              "    </g>\n",
              "</svg>\n",
              "  </button>\n",
              "\n",
              "<style>\n",
              "  .colab-df-quickchart {\n",
              "      --bg-color: #E8F0FE;\n",
              "      --fill-color: #1967D2;\n",
              "      --hover-bg-color: #E2EBFA;\n",
              "      --hover-fill-color: #174EA6;\n",
              "      --disabled-fill-color: #AAA;\n",
              "      --disabled-bg-color: #DDD;\n",
              "  }\n",
              "\n",
              "  [theme=dark] .colab-df-quickchart {\n",
              "      --bg-color: #3B4455;\n",
              "      --fill-color: #D2E3FC;\n",
              "      --hover-bg-color: #434B5C;\n",
              "      --hover-fill-color: #FFFFFF;\n",
              "      --disabled-bg-color: #3B4455;\n",
              "      --disabled-fill-color: #666;\n",
              "  }\n",
              "\n",
              "  .colab-df-quickchart {\n",
              "    background-color: var(--bg-color);\n",
              "    border: none;\n",
              "    border-radius: 50%;\n",
              "    cursor: pointer;\n",
              "    display: none;\n",
              "    fill: var(--fill-color);\n",
              "    height: 32px;\n",
              "    padding: 0;\n",
              "    width: 32px;\n",
              "  }\n",
              "\n",
              "  .colab-df-quickchart:hover {\n",
              "    background-color: var(--hover-bg-color);\n",
              "    box-shadow: 0 1px 2px rgba(60, 64, 67, 0.3), 0 1px 3px 1px rgba(60, 64, 67, 0.15);\n",
              "    fill: var(--button-hover-fill-color);\n",
              "  }\n",
              "\n",
              "  .colab-df-quickchart-complete:disabled,\n",
              "  .colab-df-quickchart-complete:disabled:hover {\n",
              "    background-color: var(--disabled-bg-color);\n",
              "    fill: var(--disabled-fill-color);\n",
              "    box-shadow: none;\n",
              "  }\n",
              "\n",
              "  .colab-df-spinner {\n",
              "    border: 2px solid var(--fill-color);\n",
              "    border-color: transparent;\n",
              "    border-bottom-color: var(--fill-color);\n",
              "    animation:\n",
              "      spin 1s steps(1) infinite;\n",
              "  }\n",
              "\n",
              "  @keyframes spin {\n",
              "    0% {\n",
              "      border-color: transparent;\n",
              "      border-bottom-color: var(--fill-color);\n",
              "      border-left-color: var(--fill-color);\n",
              "    }\n",
              "    20% {\n",
              "      border-color: transparent;\n",
              "      border-left-color: var(--fill-color);\n",
              "      border-top-color: var(--fill-color);\n",
              "    }\n",
              "    30% {\n",
              "      border-color: transparent;\n",
              "      border-left-color: var(--fill-color);\n",
              "      border-top-color: var(--fill-color);\n",
              "      border-right-color: var(--fill-color);\n",
              "    }\n",
              "    40% {\n",
              "      border-color: transparent;\n",
              "      border-right-color: var(--fill-color);\n",
              "      border-top-color: var(--fill-color);\n",
              "    }\n",
              "    60% {\n",
              "      border-color: transparent;\n",
              "      border-right-color: var(--fill-color);\n",
              "    }\n",
              "    80% {\n",
              "      border-color: transparent;\n",
              "      border-right-color: var(--fill-color);\n",
              "      border-bottom-color: var(--fill-color);\n",
              "    }\n",
              "    90% {\n",
              "      border-color: transparent;\n",
              "      border-bottom-color: var(--fill-color);\n",
              "    }\n",
              "  }\n",
              "</style>\n",
              "\n",
              "  <script>\n",
              "    async function quickchart(key) {\n",
              "      const quickchartButtonEl =\n",
              "        document.querySelector('#' + key + ' button');\n",
              "      quickchartButtonEl.disabled = true;  // To prevent multiple clicks.\n",
              "      quickchartButtonEl.classList.add('colab-df-spinner');\n",
              "      try {\n",
              "        const charts = await google.colab.kernel.invokeFunction(\n",
              "            'suggestCharts', [key], {});\n",
              "      } catch (error) {\n",
              "        console.error('Error during call to suggestCharts:', error);\n",
              "      }\n",
              "      quickchartButtonEl.classList.remove('colab-df-spinner');\n",
              "      quickchartButtonEl.classList.add('colab-df-quickchart-complete');\n",
              "    }\n",
              "    (() => {\n",
              "      let quickchartButtonEl =\n",
              "        document.querySelector('#df-b5ee182b-a4fc-47e7-b385-cc86fa43c93d button');\n",
              "      quickchartButtonEl.style.display =\n",
              "        google.colab.kernel.accessAllowed ? 'block' : 'none';\n",
              "    })();\n",
              "  </script>\n",
              "</div>\n",
              "\n",
              "    </div>\n",
              "  </div>\n"
            ],
            "application/vnd.google.colaboratory.intrinsic+json": {
              "type": "dataframe",
              "summary": "{\n  \"name\": \"df\",\n  \"rows\": 8,\n  \"fields\": [\n    {\n      \"column\": \"user_id\",\n      \"properties\": {\n        \"dtype\": \"number\",\n        \"std\": 252951.23119736963,\n        \"min\": 52.29577884350213,\n        \"max\": 546592.0,\n        \"num_unique_values\": 8,\n        \"samples\": [\n          546517.0,\n          546492.5,\n          100.0\n        ],\n        \"semantic_type\": \"\",\n        \"description\": \"\"\n      }\n    },\n    {\n      \"column\": \"time_spent_on_the_page\",\n      \"properties\": {\n        \"dtype\": \"number\",\n        \"std\": 33.733788000034416,\n        \"min\": 0.19,\n        \"max\": 100.0,\n        \"num_unique_values\": 8,\n        \"samples\": [\n          5.377800000000001,\n          5.415,\n          100.0\n        ],\n        \"semantic_type\": \"\",\n        \"description\": \"\"\n      }\n    }\n  ]\n}"
            }
          },
          "metadata": {},
          "execution_count": 9
        }
      ]
    },
    {
      "cell_type": "markdown",
      "source": [
        "Observation:\n",
        "\n",
        "When you use the df.describe().T function on your DataFrame in pandas, it provides a summary of central tendency and dispersion of the dataset. Here's how you can interpret each part of the output:\n",
        "\n",
        "\n",
        "count: This shows the number of non-null entries for each column. It's useful to determine if there are any missing values in the dataset.\n",
        "\n",
        "\n",
        "mean: This represents the average value for each numeric column.\n",
        "\n",
        "\n",
        "std: The standard deviation, which quantifies the amount of variation or dispersion in the dataset. A higher standard deviation indicates more spread out data points.\n",
        "\n",
        "\n",
        "min: This is the smallest number in each column.\n",
        "\n",
        "\n",
        "25% (1st quartile): This is the value below which 25% of the data falls. It helps in understanding the lower range of the data.\n",
        "\n",
        "\n",
        "50% (median): The middle value when the dataset is ordered. It's useful to understand the central point of the data.\n",
        "\n",
        "\n",
        "75% (3rd quartile): This is the value below which 75% of the data falls. It helps in understanding the upper range of the data.\n",
        "\n",
        "\n",
        "max: The largest number in each column."
      ],
      "metadata": {
        "id": "2yho_61ljCwl"
      }
    },
    {
      "cell_type": "code",
      "source": [
        "df['time_spent_on_the_page'].describe()"
      ],
      "metadata": {
        "colab": {
          "base_uri": "https://localhost:8080/",
          "height": 335
        },
        "id": "oRJ8ZU-Yt60-",
        "outputId": "6a4f5a00-8263-4bde-a35c-99eced095dbc"
      },
      "execution_count": 10,
      "outputs": [
        {
          "output_type": "execute_result",
          "data": {
            "text/plain": [
              "count    100.000000\n",
              "mean       5.377800\n",
              "std        2.378166\n",
              "min        0.190000\n",
              "25%        3.880000\n",
              "50%        5.415000\n",
              "75%        7.022500\n",
              "max       10.710000\n",
              "Name: time_spent_on_the_page, dtype: float64"
            ],
            "text/html": [
              "<div>\n",
              "<style scoped>\n",
              "    .dataframe tbody tr th:only-of-type {\n",
              "        vertical-align: middle;\n",
              "    }\n",
              "\n",
              "    .dataframe tbody tr th {\n",
              "        vertical-align: top;\n",
              "    }\n",
              "\n",
              "    .dataframe thead th {\n",
              "        text-align: right;\n",
              "    }\n",
              "</style>\n",
              "<table border=\"1\" class=\"dataframe\">\n",
              "  <thead>\n",
              "    <tr style=\"text-align: right;\">\n",
              "      <th></th>\n",
              "      <th>time_spent_on_the_page</th>\n",
              "    </tr>\n",
              "  </thead>\n",
              "  <tbody>\n",
              "    <tr>\n",
              "      <th>count</th>\n",
              "      <td>100.000000</td>\n",
              "    </tr>\n",
              "    <tr>\n",
              "      <th>mean</th>\n",
              "      <td>5.377800</td>\n",
              "    </tr>\n",
              "    <tr>\n",
              "      <th>std</th>\n",
              "      <td>2.378166</td>\n",
              "    </tr>\n",
              "    <tr>\n",
              "      <th>min</th>\n",
              "      <td>0.190000</td>\n",
              "    </tr>\n",
              "    <tr>\n",
              "      <th>25%</th>\n",
              "      <td>3.880000</td>\n",
              "    </tr>\n",
              "    <tr>\n",
              "      <th>50%</th>\n",
              "      <td>5.415000</td>\n",
              "    </tr>\n",
              "    <tr>\n",
              "      <th>75%</th>\n",
              "      <td>7.022500</td>\n",
              "    </tr>\n",
              "    <tr>\n",
              "      <th>max</th>\n",
              "      <td>10.710000</td>\n",
              "    </tr>\n",
              "  </tbody>\n",
              "</table>\n",
              "</div><br><label><b>dtype:</b> float64</label>"
            ]
          },
          "metadata": {},
          "execution_count": 10
        }
      ]
    },
    {
      "cell_type": "markdown",
      "source": [
        "Observation:\n",
        "\n",
        "It describes about the time_spent_on_the_page for\n",
        "\n",
        "count: This shows the number of non-null entries for each column. It's useful to determine if there are any missing values in the dataset.\n",
        "\n",
        "\n",
        "mean: This represents the average value for each numeric column.\n",
        "\n",
        "\n",
        "std: The standard deviation, which quantifies the amount of variation or dispersion in the dataset. A higher standard deviation indicates more spread out data points.\n",
        "\n",
        "\n",
        "min: This is the smallest number in each column.\n",
        "\n",
        "\n",
        "25% (1st quartile): This is the value below which 25% of the data falls. It helps in understanding the lower range of the data.\n",
        "\n",
        "\n",
        "50% (median): The middle value when the dataset is ordered. It's useful to understand the central point of the data.\n",
        "\n",
        "\n",
        "75% (3rd quartile): This is the value below which 75% of the data falls. It helps in understanding the upper range of the data.\n",
        "\n",
        "\n",
        "max: The largest number in each column."
      ],
      "metadata": {
        "id": "qOpEWS3CjId5"
      }
    },
    {
      "cell_type": "code",
      "source": [
        "df['converted'].describe()"
      ],
      "metadata": {
        "colab": {
          "base_uri": "https://localhost:8080/",
          "height": 210
        },
        "id": "fNZH7B92wUwJ",
        "outputId": "a60cf528-9632-4881-85a6-8d514eeaced7"
      },
      "execution_count": 11,
      "outputs": [
        {
          "output_type": "execute_result",
          "data": {
            "text/plain": [
              "count     100\n",
              "unique      2\n",
              "top       yes\n",
              "freq       54\n",
              "Name: converted, dtype: object"
            ],
            "text/html": [
              "<div>\n",
              "<style scoped>\n",
              "    .dataframe tbody tr th:only-of-type {\n",
              "        vertical-align: middle;\n",
              "    }\n",
              "\n",
              "    .dataframe tbody tr th {\n",
              "        vertical-align: top;\n",
              "    }\n",
              "\n",
              "    .dataframe thead th {\n",
              "        text-align: right;\n",
              "    }\n",
              "</style>\n",
              "<table border=\"1\" class=\"dataframe\">\n",
              "  <thead>\n",
              "    <tr style=\"text-align: right;\">\n",
              "      <th></th>\n",
              "      <th>converted</th>\n",
              "    </tr>\n",
              "  </thead>\n",
              "  <tbody>\n",
              "    <tr>\n",
              "      <th>count</th>\n",
              "      <td>100</td>\n",
              "    </tr>\n",
              "    <tr>\n",
              "      <th>unique</th>\n",
              "      <td>2</td>\n",
              "    </tr>\n",
              "    <tr>\n",
              "      <th>top</th>\n",
              "      <td>yes</td>\n",
              "    </tr>\n",
              "    <tr>\n",
              "      <th>freq</th>\n",
              "      <td>54</td>\n",
              "    </tr>\n",
              "  </tbody>\n",
              "</table>\n",
              "</div><br><label><b>dtype:</b> object</label>"
            ]
          },
          "metadata": {},
          "execution_count": 11
        }
      ]
    },
    {
      "cell_type": "markdown",
      "source": [
        "Observation:\n",
        "\n",
        "It describes about the Converted for\n",
        "\n",
        "count: This shows the number of non-null entries for each column. It's useful to determine if there are any missing values in the dataset.\n",
        "\n",
        "mean: This represents the average value for each numeric column.\n",
        "\n",
        "std: The standard deviation, which quantifies the amount of variation or dispersion in the dataset. A higher standard deviation indicates more spread out data points.\n",
        "\n",
        "min: This is the smallest number in each column.\n",
        "\n",
        "25% (1st quartile): This is the value below which 25% of the data falls. It helps in understanding the lower range of the data.\n",
        "\n",
        "50% (median): The middle value when the dataset is ordered. It's useful to understand the central point of the data.\n",
        "\n",
        "75% (3rd quartile): This is the value below which 75% of the data falls. It helps in understanding the upper range of the data.\n",
        "\n",
        "max: The largest number in each column."
      ],
      "metadata": {
        "id": "McGG_YQYjaH1"
      }
    },
    {
      "cell_type": "code",
      "source": [
        "df['landing_page'].describe()"
      ],
      "metadata": {
        "colab": {
          "base_uri": "https://localhost:8080/",
          "height": 210
        },
        "id": "1F7-9ZoxP0Z2",
        "outputId": "55798fb0-7e54-409d-f1c2-18a4e76fadba"
      },
      "execution_count": 12,
      "outputs": [
        {
          "output_type": "execute_result",
          "data": {
            "text/plain": [
              "count     100\n",
              "unique      2\n",
              "top       old\n",
              "freq       50\n",
              "Name: landing_page, dtype: object"
            ],
            "text/html": [
              "<div>\n",
              "<style scoped>\n",
              "    .dataframe tbody tr th:only-of-type {\n",
              "        vertical-align: middle;\n",
              "    }\n",
              "\n",
              "    .dataframe tbody tr th {\n",
              "        vertical-align: top;\n",
              "    }\n",
              "\n",
              "    .dataframe thead th {\n",
              "        text-align: right;\n",
              "    }\n",
              "</style>\n",
              "<table border=\"1\" class=\"dataframe\">\n",
              "  <thead>\n",
              "    <tr style=\"text-align: right;\">\n",
              "      <th></th>\n",
              "      <th>landing_page</th>\n",
              "    </tr>\n",
              "  </thead>\n",
              "  <tbody>\n",
              "    <tr>\n",
              "      <th>count</th>\n",
              "      <td>100</td>\n",
              "    </tr>\n",
              "    <tr>\n",
              "      <th>unique</th>\n",
              "      <td>2</td>\n",
              "    </tr>\n",
              "    <tr>\n",
              "      <th>top</th>\n",
              "      <td>old</td>\n",
              "    </tr>\n",
              "    <tr>\n",
              "      <th>freq</th>\n",
              "      <td>50</td>\n",
              "    </tr>\n",
              "  </tbody>\n",
              "</table>\n",
              "</div><br><label><b>dtype:</b> object</label>"
            ]
          },
          "metadata": {},
          "execution_count": 12
        }
      ]
    },
    {
      "cell_type": "markdown",
      "source": [
        "Observation:\n",
        "\n",
        "It describes about the landing_page for\n",
        "\n",
        "count: This shows the number of non-null entries for each column. It's useful to determine if there are any missing values in the dataset.\n",
        "\n",
        "mean: This represents the average value for each numeric column.\n",
        "\n",
        "std: The standard deviation, which quantifies the amount of variation or dispersion in the dataset. A higher standard deviation indicates more spread out data points.\n",
        "\n",
        "min: This is the smallest number in each column.\n",
        "\n",
        "25% (1st quartile): This is the value below which 25% of the data falls. It helps in understanding the lower range of the data.\n",
        "\n",
        "50% (median): The middle value when the dataset is ordered. It's useful to understand the central point of the data.\n",
        "\n",
        "75% (3rd quartile): This is the value below which 75% of the data falls. It helps in understanding the upper range of the data.\n",
        "\n",
        "max: The largest number in each column."
      ],
      "metadata": {
        "id": "czcivnvKjea0"
      }
    },
    {
      "cell_type": "markdown",
      "source": [
        "### **Check for missing values**"
      ],
      "metadata": {
        "id": "7Sb0JweXK-dv"
      }
    },
    {
      "cell_type": "code",
      "source": [
        "df.isnull().sum()"
      ],
      "metadata": {
        "colab": {
          "base_uri": "https://localhost:8080/",
          "height": 272
        },
        "id": "zDqb8XNIIviu",
        "outputId": "848e05ca-8747-43fe-bca8-aa2fcd46c99b"
      },
      "execution_count": 13,
      "outputs": [
        {
          "output_type": "execute_result",
          "data": {
            "text/plain": [
              "user_id                   0\n",
              "group                     0\n",
              "landing_page              0\n",
              "time_spent_on_the_page    0\n",
              "converted                 0\n",
              "language_preferred        0\n",
              "dtype: int64"
            ],
            "text/html": [
              "<div>\n",
              "<style scoped>\n",
              "    .dataframe tbody tr th:only-of-type {\n",
              "        vertical-align: middle;\n",
              "    }\n",
              "\n",
              "    .dataframe tbody tr th {\n",
              "        vertical-align: top;\n",
              "    }\n",
              "\n",
              "    .dataframe thead th {\n",
              "        text-align: right;\n",
              "    }\n",
              "</style>\n",
              "<table border=\"1\" class=\"dataframe\">\n",
              "  <thead>\n",
              "    <tr style=\"text-align: right;\">\n",
              "      <th></th>\n",
              "      <th>0</th>\n",
              "    </tr>\n",
              "  </thead>\n",
              "  <tbody>\n",
              "    <tr>\n",
              "      <th>user_id</th>\n",
              "      <td>0</td>\n",
              "    </tr>\n",
              "    <tr>\n",
              "      <th>group</th>\n",
              "      <td>0</td>\n",
              "    </tr>\n",
              "    <tr>\n",
              "      <th>landing_page</th>\n",
              "      <td>0</td>\n",
              "    </tr>\n",
              "    <tr>\n",
              "      <th>time_spent_on_the_page</th>\n",
              "      <td>0</td>\n",
              "    </tr>\n",
              "    <tr>\n",
              "      <th>converted</th>\n",
              "      <td>0</td>\n",
              "    </tr>\n",
              "    <tr>\n",
              "      <th>language_preferred</th>\n",
              "      <td>0</td>\n",
              "    </tr>\n",
              "  </tbody>\n",
              "</table>\n",
              "</div><br><label><b>dtype:</b> int64</label>"
            ]
          },
          "metadata": {},
          "execution_count": 13
        }
      ]
    },
    {
      "cell_type": "markdown",
      "source": [
        "Obersvations:\n",
        "\n",
        "There is no missing data in this dataset.\n",
        "The use of df.isnull().sum() is to quickly check how much data is missing in each column. This is useful in data cleaning and preprocessing steps before analysis or modeling."
      ],
      "metadata": {
        "id": "x-5vrHeGMlYE"
      }
    },
    {
      "cell_type": "markdown",
      "source": [
        "### **Check for duplicates**"
      ],
      "metadata": {
        "id": "px3E2ZJXM1RT"
      }
    },
    {
      "cell_type": "code",
      "source": [
        "duplicates = df[df.duplicated()].sum()\n",
        "duplicates"
      ],
      "metadata": {
        "colab": {
          "base_uri": "https://localhost:8080/",
          "height": 272
        },
        "id": "nJZWyKZqIyV5",
        "outputId": "eb1f17a4-bcf3-48fa-982d-163044f4e3d5"
      },
      "execution_count": 14,
      "outputs": [
        {
          "output_type": "execute_result",
          "data": {
            "text/plain": [
              "user_id                   0.0\n",
              "group                     0.0\n",
              "landing_page              0.0\n",
              "time_spent_on_the_page    0.0\n",
              "converted                 0.0\n",
              "language_preferred        0.0\n",
              "dtype: float64"
            ],
            "text/html": [
              "<div>\n",
              "<style scoped>\n",
              "    .dataframe tbody tr th:only-of-type {\n",
              "        vertical-align: middle;\n",
              "    }\n",
              "\n",
              "    .dataframe tbody tr th {\n",
              "        vertical-align: top;\n",
              "    }\n",
              "\n",
              "    .dataframe thead th {\n",
              "        text-align: right;\n",
              "    }\n",
              "</style>\n",
              "<table border=\"1\" class=\"dataframe\">\n",
              "  <thead>\n",
              "    <tr style=\"text-align: right;\">\n",
              "      <th></th>\n",
              "      <th>0</th>\n",
              "    </tr>\n",
              "  </thead>\n",
              "  <tbody>\n",
              "    <tr>\n",
              "      <th>user_id</th>\n",
              "      <td>0.0</td>\n",
              "    </tr>\n",
              "    <tr>\n",
              "      <th>group</th>\n",
              "      <td>0.0</td>\n",
              "    </tr>\n",
              "    <tr>\n",
              "      <th>landing_page</th>\n",
              "      <td>0.0</td>\n",
              "    </tr>\n",
              "    <tr>\n",
              "      <th>time_spent_on_the_page</th>\n",
              "      <td>0.0</td>\n",
              "    </tr>\n",
              "    <tr>\n",
              "      <th>converted</th>\n",
              "      <td>0.0</td>\n",
              "    </tr>\n",
              "    <tr>\n",
              "      <th>language_preferred</th>\n",
              "      <td>0.0</td>\n",
              "    </tr>\n",
              "  </tbody>\n",
              "</table>\n",
              "</div><br><label><b>dtype:</b> float64</label>"
            ]
          },
          "metadata": {},
          "execution_count": 14
        }
      ]
    },
    {
      "cell_type": "markdown",
      "source": [
        "Observations:\n",
        "\n",
        "There is no duplicates observed in the dataset."
      ],
      "metadata": {
        "id": "9yFI6KwgM_s2"
      }
    },
    {
      "cell_type": "markdown",
      "source": [
        "# **Exploratory Data Analysis**"
      ],
      "metadata": {
        "id": "_mT8j54SQ0s-"
      }
    },
    {
      "cell_type": "markdown",
      "source": [
        "## **Univariate Analysis**"
      ],
      "metadata": {
        "id": "ilzRJAGXQ096"
      }
    },
    {
      "cell_type": "code",
      "source": [
        "df['language_preferred'].unique()"
      ],
      "metadata": {
        "colab": {
          "base_uri": "https://localhost:8080/"
        },
        "id": "Wnb1LzXaK3M-",
        "outputId": "149a6193-d7c9-425d-a141-c42b7a2161d2"
      },
      "execution_count": 15,
      "outputs": [
        {
          "output_type": "execute_result",
          "data": {
            "text/plain": [
              "array(['Spanish', 'English', 'French'], dtype=object)"
            ]
          },
          "metadata": {},
          "execution_count": 15
        }
      ]
    },
    {
      "cell_type": "markdown",
      "source": [
        "Observations:\n",
        "\n",
        "There are 3 languages used Spanish,English and French."
      ],
      "metadata": {
        "id": "jVxKzQ9nZKfe"
      }
    },
    {
      "cell_type": "code",
      "source": [
        "df['landing_page'].value_counts()"
      ],
      "metadata": {
        "colab": {
          "base_uri": "https://localhost:8080/",
          "height": 147
        },
        "id": "3bcPHaX28gKI",
        "outputId": "d286e8e4-6376-480a-da87-37f7f53dd9ab"
      },
      "execution_count": 16,
      "outputs": [
        {
          "output_type": "execute_result",
          "data": {
            "text/plain": [
              "old    50\n",
              "new    50\n",
              "Name: landing_page, dtype: int64"
            ],
            "text/html": [
              "<div>\n",
              "<style scoped>\n",
              "    .dataframe tbody tr th:only-of-type {\n",
              "        vertical-align: middle;\n",
              "    }\n",
              "\n",
              "    .dataframe tbody tr th {\n",
              "        vertical-align: top;\n",
              "    }\n",
              "\n",
              "    .dataframe thead th {\n",
              "        text-align: right;\n",
              "    }\n",
              "</style>\n",
              "<table border=\"1\" class=\"dataframe\">\n",
              "  <thead>\n",
              "    <tr style=\"text-align: right;\">\n",
              "      <th></th>\n",
              "      <th>landing_page</th>\n",
              "    </tr>\n",
              "  </thead>\n",
              "  <tbody>\n",
              "    <tr>\n",
              "      <th>old</th>\n",
              "      <td>50</td>\n",
              "    </tr>\n",
              "    <tr>\n",
              "      <th>new</th>\n",
              "      <td>50</td>\n",
              "    </tr>\n",
              "  </tbody>\n",
              "</table>\n",
              "</div><br><label><b>dtype:</b> int64</label>"
            ]
          },
          "metadata": {},
          "execution_count": 16
        }
      ]
    },
    {
      "cell_type": "markdown",
      "source": [
        "Observations:\n",
        "\n",
        "The landing page has 50 old and 50 new users."
      ],
      "metadata": {
        "id": "5okTOPN5Ej6D"
      }
    },
    {
      "cell_type": "code",
      "source": [
        "df['converted'].value_counts()"
      ],
      "metadata": {
        "colab": {
          "base_uri": "https://localhost:8080/",
          "height": 147
        },
        "id": "W5SXTIXE66fm",
        "outputId": "f8f8db44-8d3c-4d16-b2f7-324ce5d23ba9"
      },
      "execution_count": 17,
      "outputs": [
        {
          "output_type": "execute_result",
          "data": {
            "text/plain": [
              "yes    54\n",
              "no     46\n",
              "Name: converted, dtype: int64"
            ],
            "text/html": [
              "<div>\n",
              "<style scoped>\n",
              "    .dataframe tbody tr th:only-of-type {\n",
              "        vertical-align: middle;\n",
              "    }\n",
              "\n",
              "    .dataframe tbody tr th {\n",
              "        vertical-align: top;\n",
              "    }\n",
              "\n",
              "    .dataframe thead th {\n",
              "        text-align: right;\n",
              "    }\n",
              "</style>\n",
              "<table border=\"1\" class=\"dataframe\">\n",
              "  <thead>\n",
              "    <tr style=\"text-align: right;\">\n",
              "      <th></th>\n",
              "      <th>converted</th>\n",
              "    </tr>\n",
              "  </thead>\n",
              "  <tbody>\n",
              "    <tr>\n",
              "      <th>yes</th>\n",
              "      <td>54</td>\n",
              "    </tr>\n",
              "    <tr>\n",
              "      <th>no</th>\n",
              "      <td>46</td>\n",
              "    </tr>\n",
              "  </tbody>\n",
              "</table>\n",
              "</div><br><label><b>dtype:</b> int64</label>"
            ]
          },
          "metadata": {},
          "execution_count": 17
        }
      ]
    },
    {
      "cell_type": "markdown",
      "source": [
        "Observation:\n",
        "\n",
        "The converted number of users were 54 and 46 of the users have not been converted yet."
      ],
      "metadata": {
        "id": "cQYzI57T7TDW"
      }
    },
    {
      "cell_type": "code",
      "source": [
        "df['user_id'].nunique()"
      ],
      "metadata": {
        "colab": {
          "base_uri": "https://localhost:8080/"
        },
        "id": "y56tJgmyRopA",
        "outputId": "997c01f3-9625-48c4-ab37-453ad447dab5"
      },
      "execution_count": 18,
      "outputs": [
        {
          "output_type": "execute_result",
          "data": {
            "text/plain": [
              "100"
            ]
          },
          "metadata": {},
          "execution_count": 18
        }
      ]
    },
    {
      "cell_type": "markdown",
      "source": [
        "Observations:\n",
        "\n",
        "The total number of user id that are unique is 100."
      ],
      "metadata": {
        "id": "dy8k8pALZTMw"
      }
    },
    {
      "cell_type": "code",
      "source": [
        "# Plotting the countplot for landing page\n",
        "sns.countplot(data=df,x ='group',hue='group')"
      ],
      "metadata": {
        "colab": {
          "base_uri": "https://localhost:8080/",
          "height": 466
        },
        "id": "0HI6LLRZdM96",
        "outputId": "c5880028-18f0-4896-d09b-122a53eb8995"
      },
      "execution_count": 19,
      "outputs": [
        {
          "output_type": "execute_result",
          "data": {
            "text/plain": [
              "<Axes: xlabel='group', ylabel='count'>"
            ]
          },
          "metadata": {},
          "execution_count": 19
        },
        {
          "output_type": "display_data",
          "data": {
            "text/plain": [
              "<Figure size 640x480 with 1 Axes>"
            ],
            "image/png": "[encoded data removed]"
          },
          "metadata": {}
        }
      ]
    },
    {
      "cell_type": "markdown",
      "source": [
        "Observations:\n",
        "\n",
        "The countplot shows an equal distribution of users across the old and new landing pages, indicating that the data is balanced between the two groups."
      ],
      "metadata": {
        "id": "oN57KNXvgAPA"
      }
    },
    {
      "cell_type": "code",
      "source": [
        "#Plotting the boxplot for Time_spent on the page and landing page.\n",
        "sns.boxplot(data=df,y ='time_spent_on_the_page', x ='landing_page')\n",
        "#plt.legend(bbox_to_anchor=(1.05, 1), loc='upper left')\n",
        "plt.show()"
      ],
      "metadata": {
        "colab": {
          "base_uri": "https://localhost:8080/",
          "height": 450
        },
        "id": "aCv7vuPKWH8i",
        "outputId": "c95a2369-454e-4785-d025-b8f69b73d9b6"
      },
      "execution_count": 20,
      "outputs": [
        {
          "output_type": "display_data",
          "data": {
            "text/plain": [
              "<Figure size 640x480 with 1 Axes>"
            ],
            "image/png": "[encoded data removed]"
          },
          "metadata": {}
        }
      ]
    },
    {
      "cell_type": "markdown",
      "source": [
        "Observations:\n",
        "\n",
        "The boxplot reveals that users tend to spend more time on the new landing page compared to the old landing page, with the new page showing a higher median time and possibly a wider distribution of engagement.\n",
        "There seem to be a few outliers, particularly on the higher end for both the new and old landing pages, indicating that there are some users who spend significantly longer time on the landing pages than others.\n"
      ],
      "metadata": {
        "id": "iZO4-RxYagi4"
      }
    },
    {
      "cell_type": "code",
      "source": [
        "##Plotting the barplot for Time_spent on the page and language preferred\n",
        "sns.barplot(data=df,x='language_preferred', y='time_spent_on_the_page',hue='language_preferred')"
      ],
      "metadata": {
        "colab": {
          "base_uri": "https://localhost:8080/",
          "height": 467
        },
        "id": "EkCwh1QLTpm0",
        "outputId": "87a7156f-d7ec-498b-f555-8c2a53aadca1"
      },
      "execution_count": 21,
      "outputs": [
        {
          "output_type": "execute_result",
          "data": {
            "text/plain": [
              "<Axes: xlabel='language_preferred', ylabel='time_spent_on_the_page'>"
            ]
          },
          "metadata": {},
          "execution_count": 21
        },
        {
          "output_type": "display_data",
          "data": {
            "text/plain": [
              "<Figure size 640x480 with 1 Axes>"
            ],
            "image/png": "[encoded data removed]"
          },
          "metadata": {}
        }
      ]
    },
    {
      "cell_type": "markdown",
      "source": [
        "Observations:\n",
        "\n",
        "The bar plot shows the average time spent on the page for each preferred language, highlighting variations in engagement across language groups."
      ],
      "metadata": {
        "id": "Q5Hzq8VtcxkH"
      }
    },
    {
      "cell_type": "code",
      "source": [
        "#The sns.countplot() visualization using the code you provided will create a bar plot to show the distribution of the language_preferred variable, with separate bars for each value of converted.\n",
        "\n",
        "sns.countplot(data=df,x='language_preferred', hue='converted')\n",
        "plt.legend(bbox_to_anchor=(1.05, 1), loc='upper left')"
      ],
      "metadata": {
        "colab": {
          "base_uri": "https://localhost:8080/",
          "height": 467
        },
        "id": "HdrV1GZqUnan",
        "outputId": "367daef3-9f7a-4399-b695-ac17596ec93b"
      },
      "execution_count": 22,
      "outputs": [
        {
          "output_type": "execute_result",
          "data": {
            "text/plain": [
              "<matplotlib.legend.Legend at 0x7b86fd5b2b60>"
            ]
          },
          "metadata": {},
          "execution_count": 22
        },
        {
          "output_type": "display_data",
          "data": {
            "text/plain": [
              "<Figure size 640x480 with 1 Axes>"
            ],
            "image/png": "[encoded data removed]"
          },
          "metadata": {}
        }
      ]
    },
    {
      "cell_type": "markdown",
      "source": [
        "Observations:\n",
        "\n",
        "The count plot shows the distribution of users' preferred languages and their conversion status, allowing for quick comparison of conversion rates across languages."
      ],
      "metadata": {
        "id": "tNXqX-VicKHV"
      }
    },
    {
      "cell_type": "markdown",
      "source": [
        "## **Bivariate Analysis**"
      ],
      "metadata": {
        "id": "Snb-FG0VXGtW"
      }
    },
    {
      "cell_type": "code",
      "source": [
        "#Plotting the boxplot for Time_spent on the page and converted\n",
        "sns.boxplot(data=df,x='time_spent_on_the_page', hue ='converted')\n",
        "plt.legend(bbox_to_anchor=(1.05, 1), loc='upper left')\n",
        "plt.show()"
      ],
      "metadata": {
        "colab": {
          "base_uri": "https://localhost:8080/",
          "height": 450
        },
        "outputId": "6b125f90-cf44-442c-8638-a2d1c1197880",
        "id": "wGqtb9fuW3GV"
      },
      "execution_count": 23,
      "outputs": [
        {
          "output_type": "display_data",
          "data": {
            "text/plain": [
              "<Figure size 640x480 with 1 Axes>"
            ],
            "image/png": "[encoded data removed]"
          },
          "metadata": {}
        }
      ]
    },
    {
      "cell_type": "markdown",
      "source": [
        "Observation:\n",
        "\n",
        "The boxplot reveals differences in the time spent on the page between converted and non-converted users, with converted users typically spending more time.\n",
        "\n"
      ],
      "metadata": {
        "id": "1PLLR2r-q-mn"
      }
    },
    {
      "cell_type": "code",
      "source": [
        "sns.boxplot(data=df,x ='time_spent_on_the_page',y ='language_preferred',hue='language_preferred')\n",
        "plt.show()"
      ],
      "metadata": {
        "colab": {
          "base_uri": "https://localhost:8080/",
          "height": 450
        },
        "id": "eV5RAb1zgXyY",
        "outputId": "a128d45f-f22d-4069-fa35-ab88190c8455"
      },
      "execution_count": 24,
      "outputs": [
        {
          "output_type": "display_data",
          "data": {
            "text/plain": [
              "<Figure size 640x480 with 1 Axes>"
            ],
            "image/png": "[encoded data removed]"
          },
          "metadata": {}
        }
      ]
    },
    {
      "cell_type": "markdown",
      "source": [
        "# **1. Do the users spend more time on the new landing page than the existing landing page?**"
      ],
      "metadata": {
        "id": "QYgsH8sH6doC"
      }
    },
    {
      "cell_type": "code",
      "source": [
        "sns.histplot(data=df,x='time_spent_on_the_page',hue='landing_page')\n",
        "plt.show()\n",
        "sns.boxplot(data=df,x='time_spent_on_the_page',y='landing_page',hue='landing_page')\n",
        "plt.show()\n",
        "#"
      ],
      "metadata": {
        "colab": {
          "base_uri": "https://localhost:8080/",
          "height": 883
        },
        "id": "_rl2jz7at3VT",
        "outputId": "d78ffd55-f5e3-46d1-b6e6-776a958d5f2a"
      },
      "execution_count": 25,
      "outputs": [
        {
          "output_type": "display_data",
          "data": {
            "text/plain": [
              "<Figure size 640x480 with 1 Axes>"
            ],
            "image/png": "[encoded data removed]"
          },
          "metadata": {}
        },
        {
          "output_type": "display_data",
          "data": {
            "text/plain": [
              "<Figure size 640x480 with 1 Axes>"
            ],
            "image/png": "[encoded data removed]"
          },
          "metadata": {}
        }
      ]
    },
    {
      "cell_type": "markdown",
      "source": [
        "Observation:\n",
        "\n",
        "Yes, the user spend more time in new page than the old page. We can clearly see the difference in both the visuals and we even have the outliers also, meaning that the people tend to spend more time than the usual mean time."
      ],
      "metadata": {
        "id": "u_MdKE7CIsrS"
      }
    },
    {
      "cell_type": "markdown",
      "source": [
        "# Step 1: Define the null and alternate hypotheses"
      ],
      "metadata": {
        "id": "bQY5RE2lIkt-"
      }
    },
    {
      "cell_type": "markdown",
      "source": [
        "Null hypothesis: H0 = Users spend equal time in old landing page and new landing page.\n",
        "\n",
        "M1 = M2\n",
        "\n",
        "Alternative hypothesis: Ha > Users spend more time in new landing time.\n",
        "\n",
        "M1 > M2"
      ],
      "metadata": {
        "id": "VQg2GJ5ZJKN0"
      }
    },
    {
      "cell_type": "markdown",
      "source": [
        "# Step 2: Select Appropriate test"
      ],
      "metadata": {
        "id": "ispS-q4xNLxl"
      }
    },
    {
      "cell_type": "markdown",
      "source": [
        "Based on the above information, This is a one-tailed test concerning two population means from two independent populations. The population standard deviations are unknown.\n",
        "\n",
        "**It's 2 sample independent t-test**"
      ],
      "metadata": {
        "id": "74p8rOmSNOmw"
      }
    },
    {
      "cell_type": "markdown",
      "source": [
        "# Step 3: Decide the significance level"
      ],
      "metadata": {
        "id": "uM7UrW3oNjg4"
      }
    },
    {
      "cell_type": "markdown",
      "source": [
        "To perform a statistical analysis at a significance level of 5% to determine the effectiveness of the new landing page in gathering new subscribers for the news portal\n",
        "\n",
        "Significance level = 0.05"
      ],
      "metadata": {
        "id": "rn4hz1bUOFtH"
      }
    },
    {
      "cell_type": "markdown",
      "source": [
        "## Let's test whether the T-test assumptions are satisfied or not"
      ],
      "metadata": {
        "id": "fTXzzQYUPF-8"
      }
    },
    {
      "cell_type": "markdown",
      "source": [
        "\n",
        "Continuous data - Yes, the Time spent on the page is measured on a continuous scale.\n",
        "\n",
        "Normally distributed populations - Yes, we are informed that the populations are assumed to be normal.\n",
        "\n",
        "Independent populations - As we are taking random samples for two different groups, the two samples are from two independent populations.\n",
        "\n",
        "Random sampling from the population - Yes, we are informed that the collected sample a simple random sample.\n",
        "\n",
        "\n",
        "Voila! We can use two sample T-test for this problem."
      ],
      "metadata": {
        "id": "AdeLYoAqOWiA"
      }
    },
    {
      "cell_type": "markdown",
      "source": [
        "# Step 4: Collect and prepare data"
      ],
      "metadata": {
        "id": "SqZXUe7MPZep"
      }
    },
    {
      "cell_type": "code",
      "source": [
        "# Prepare data for comparing time spent on new vs. existing landing pages\n",
        "new_page_data = df[df['landing_page'] == 'new']['time_spent_on_the_page']\n",
        "old_page_data = df[df['landing_page'] == 'old']['time_spent_on_the_page']"
      ],
      "metadata": {
        "id": "Fk6cXGnHZVQD"
      },
      "execution_count": 26,
      "outputs": []
    },
    {
      "cell_type": "code",
      "source": [
        "# You can further explore the data by calculating descriptive statistics:\n",
        "print(\"New Page Time Spent (Mean):\", new_page_data.mean())\n",
        "print(\"Old Page Time Spent (Mean):\", old_page_data.mean())\n",
        "print(\"New Page Time Spent (Standard Deviation):\", new_page_data.std())\n",
        "print(\"Old Page Time Spent (Standard Deviation):\", old_page_data.std())"
      ],
      "metadata": {
        "colab": {
          "base_uri": "https://localhost:8080/"
        },
        "id": "_sdamoKAZ3TE",
        "outputId": "2c0e7964-42cb-41bc-c5d6-f817176d0e95"
      },
      "execution_count": 27,
      "outputs": [
        {
          "output_type": "stream",
          "name": "stdout",
          "text": [
            "New Page Time Spent (Mean): 6.2232\n",
            "Old Page Time Spent (Mean): 4.532400000000001\n",
            "New Page Time Spent (Standard Deviation): 1.8170310387878263\n",
            "Old Page Time Spent (Standard Deviation): 2.581974849306046\n"
          ]
        }
      ]
    },
    {
      "cell_type": "markdown",
      "source": [
        "Observation:\n",
        "\n",
        "From the above calculation we can see the Standard deviation is different, And it furthur more proves the test assumptions to calculate 2 sample independent t-test."
      ],
      "metadata": {
        "id": "hpuPBHTCPEFm"
      }
    },
    {
      "cell_type": "markdown",
      "source": [
        "# Step 5: Calculate the p-value"
      ],
      "metadata": {
        "id": "WfT1rpmsU4YM"
      }
    },
    {
      "cell_type": "code",
      "source": [
        "# The ttest_ind() function of Scipy will be used to compute the test statistic and p-value\n",
        "\n",
        "t_statistic, p_value = stats.ttest_ind(new_page_data, old_page_data,equal_var = False, alternative = 'greater')\n",
        "print('The p-value is ', p_value)\n"
      ],
      "metadata": {
        "colab": {
          "base_uri": "https://localhost:8080/"
        },
        "id": "jyeN-S7QlcjE",
        "outputId": "7fb61046-531a-4064-ef5f-42e9bfeb3056"
      },
      "execution_count": 28,
      "outputs": [
        {
          "output_type": "stream",
          "name": "stdout",
          "text": [
            "The p-value is  0.0001392381225166549\n"
          ]
        }
      ]
    },
    {
      "cell_type": "markdown",
      "source": [
        "Observation:\n",
        "\n",
        "The p-value is 0.00013 which is much less than our significance level."
      ],
      "metadata": {
        "id": "HcKIZC2ZkqYZ"
      }
    },
    {
      "cell_type": "markdown",
      "source": [
        "# Step 6: Compare the p-value with α"
      ],
      "metadata": {
        "id": "e78T5QOGnhh4"
      }
    },
    {
      "cell_type": "code",
      "source": [
        "p_value = 0.0001392381225166549\n",
        "α = 0.05\n",
        "\n",
        "if p_value < α:\n",
        "    print(\"Reject the null hypothesis. Users spend more time on the new landing page than the old landing page.\")\n",
        "else:\n",
        "    print(\"Users spend equal time in old landing page and new landing page.\")"
      ],
      "metadata": {
        "colab": {
          "base_uri": "https://localhost:8080/"
        },
        "id": "mOH7_hfPnkw7",
        "outputId": "104afc64-c2ed-4713-a027-419184943122"
      },
      "execution_count": 29,
      "outputs": [
        {
          "output_type": "stream",
          "name": "stdout",
          "text": [
            "Reject the null hypothesis. Users spend more time on the new landing page than the old landing page.\n"
          ]
        }
      ]
    },
    {
      "cell_type": "markdown",
      "source": [
        "# Step 7: Draw inference"
      ],
      "metadata": {
        "id": "CAQrS9BcoS_1"
      }
    },
    {
      "cell_type": "markdown",
      "source": [
        "The t-test results show a statistically significant difference in time spent on the new and old landing pages (p-value < 0.05).\n",
        "\n",
        "We reject the null hypothesis and conclude that users spend significantly more time on the new landing page than on the old landing page.\n",
        "\n",
        "This suggests that the new landing page is more engaging and effective at capturing user attention."
      ],
      "metadata": {
        "id": "0wc6WZtvo2S4"
      }
    },
    {
      "cell_type": "markdown",
      "source": [
        "# **2. Is the conversion rate (the proportion of users who visit the landing page and get converted) for the new page greater than the conversion rate for the old page?**"
      ],
      "metadata": {
        "id": "SSP2reYJpQbj"
      }
    },
    {
      "cell_type": "markdown",
      "source": [
        "\n",
        "# Perform Visual Analysis"
      ],
      "metadata": {
        "id": "YytWEoxCpSsk"
      }
    },
    {
      "cell_type": "code",
      "source": [
        "#plotting visual analysis using count plot for converted and landing_page\n",
        "\n",
        "sns.countplot(data=df,x='converted',hue='landing_page')\n",
        "plt.show()"
      ],
      "metadata": {
        "colab": {
          "base_uri": "https://localhost:8080/",
          "height": 449
        },
        "id": "2Nq8ScuFu5vb",
        "outputId": "5bbad049-7b5a-4939-baec-f0b4dd9f9369"
      },
      "execution_count": 30,
      "outputs": [
        {
          "output_type": "display_data",
          "data": {
            "text/plain": [
              "<Figure size 640x480 with 1 Axes>"
            ],
            "image/png": "[encoded data removed]"
          },
          "metadata": {}
        }
      ]
    },
    {
      "cell_type": "markdown",
      "source": [
        "Observation:\n",
        "\n",
        "It is clearly visible that the converted page 'yes' is having more count than the old landing page."
      ],
      "metadata": {
        "id": "6Sfg5zwrmPsC"
      }
    },
    {
      "cell_type": "code",
      "source": [
        "crosstab = pd.crosstab(df['landing_page'], df['converted'])\n",
        "\n",
        "sns.heatmap(crosstab, annot=True, fmt=\"d\", cmap=\"Blues\")"
      ],
      "metadata": {
        "colab": {
          "base_uri": "https://localhost:8080/",
          "height": 466
        },
        "id": "VHulFG6SDq6l",
        "outputId": "ddeffd83-38b1-45ad-fb9e-1ad2dae929f2"
      },
      "execution_count": 31,
      "outputs": [
        {
          "output_type": "execute_result",
          "data": {
            "text/plain": [
              "<Axes: xlabel='converted', ylabel='landing_page'>"
            ]
          },
          "metadata": {},
          "execution_count": 31
        },
        {
          "output_type": "display_data",
          "data": {
            "text/plain": [
              "<Figure size 640x480 with 2 Axes>"
            ],
            "image/png": "[encoded data removed]"
          },
          "metadata": {}
        }
      ]
    },
    {
      "cell_type": "markdown",
      "source": [
        "Observation:\n",
        "\n",
        "Based on the above heatmap,\n",
        "New Page Conversions: 33\n",
        "Old Page Conversions: 21\n",
        "New Page Total: 50\n",
        "Old Page Total: 50"
      ],
      "metadata": {
        "id": "78AtvB93Aqcf"
      }
    },
    {
      "cell_type": "markdown",
      "source": [
        "# Step 1: Define the null and alternate hypotheses"
      ],
      "metadata": {
        "id": "w6NclJ3rsIbV"
      }
    },
    {
      "cell_type": "markdown",
      "source": [
        "Null hypotheses H0: The conversion rate of users of old landing page is equal to users been converted to the new page.\n",
        "\n",
        "M1 = M2\n",
        "\n",
        "Alternative Hypothesis Ha : The conversion rate of users of old landing page is greater than users been converted to the new page.\n",
        "\n",
        "M1 > M2"
      ],
      "metadata": {
        "id": "EK-P0Eo9sQWP"
      }
    },
    {
      "cell_type": "markdown",
      "source": [
        "# Step 2: Select Appropriate test"
      ],
      "metadata": {
        "id": "x_E0sKTtufed"
      }
    },
    {
      "cell_type": "markdown",
      "source": [
        "Compare the sample proportions from two\n",
        "populations.\n",
        "\n",
        "This test uses approach 2 sample proportion z test"
      ],
      "metadata": {
        "id": "iFpWAUHliBra"
      }
    },
    {
      "cell_type": "markdown",
      "source": [
        "# Step 3: Decide the significance level"
      ],
      "metadata": {
        "id": "g2dq0EehnsdX"
      }
    },
    {
      "cell_type": "markdown",
      "source": [
        "To perform a statistical analysis at a significance level of 5% to determine the effectiveness we use,\n",
        "\n",
        "Significance level = 0.05"
      ],
      "metadata": {
        "id": "DbKFpnD2n-jH"
      }
    },
    {
      "cell_type": "markdown",
      "source": [
        "# Step 4: Collect and prepare data"
      ],
      "metadata": {
        "id": "ASyjdx2_n_ui"
      }
    },
    {
      "cell_type": "code",
      "source": [
        "#  Collect and prepare data\n",
        "new_page_conversions = df[(df['landing_page'] == 'new') & (df['converted'] == 'yes')].shape[0]\n",
        "new_page_total = df[df['landing_page'] == 'new'].shape[0]\n",
        "old_page_conversions = df[(df['landing_page'] == 'old') & (df['converted'] == 'yes')].shape[0]\n",
        "old_page_total = df[df['landing_page'] == 'old'].shape[0]\n",
        "\n",
        "print(\"New Page Conversions:\", new_page_conversions)\n",
        "print(\"New Page Total:\", new_page_total)\n",
        "print(\"Old Page Conversions:\", old_page_conversions)\n",
        "print(\"Old Page Total:\", old_page_total)\n",
        "\n",
        "# Calculate conversion rates\n",
        "new_page_conversion_rate = new_page_conversions / new_page_total\n",
        "old_page_conversion_rate = old_page_conversions / old_page_total\n",
        "\n"
      ],
      "metadata": {
        "colab": {
          "base_uri": "https://localhost:8080/"
        },
        "id": "pWtK769bGKNZ",
        "outputId": "9b416469-deec-4c90-c15a-512d01832832"
      },
      "execution_count": 32,
      "outputs": [
        {
          "output_type": "stream",
          "name": "stdout",
          "text": [
            "New Page Conversions: 33\n",
            "New Page Total: 50\n",
            "Old Page Conversions: 21\n",
            "Old Page Total: 50\n"
          ]
        }
      ]
    },
    {
      "cell_type": "markdown",
      "source": [
        "# Step 5: Calculate the p-value"
      ],
      "metadata": {
        "id": "8vGHBU-JtN77"
      }
    },
    {
      "cell_type": "code",
      "source": [
        "#Calculate the p-value using a two-sample z-test for proportions\n",
        "\n",
        "count = np.array([new_page_conversions, old_page_conversions])\n",
        "nobs = np.array([new_page_total, old_page_total])\n",
        "\n",
        "z_statistic, p_value = proportions_ztest(count, nobs, alternative='larger')\n",
        "\n",
        "print(\"Z-statistic:\", z_statistic)\n",
        "print(\"P-value:\", p_value)\n"
      ],
      "metadata": {
        "colab": {
          "base_uri": "https://localhost:8080/"
        },
        "id": "cBHt3I19s4-4",
        "outputId": "e3257ceb-649e-4c85-eca4-16d40b5f9b66"
      },
      "execution_count": 33,
      "outputs": [
        {
          "output_type": "stream",
          "name": "stdout",
          "text": [
            "Z-statistic: 2.4077170617153842\n",
            "P-value: 0.008026308204056278\n"
          ]
        }
      ]
    },
    {
      "cell_type": "markdown",
      "source": [
        "# Step 6: Compare the p-value with α"
      ],
      "metadata": {
        "id": "17V0rz4Dta8N"
      }
    },
    {
      "cell_type": "code",
      "source": [
        "p_value = 0.008026308204056278\n",
        "α = 0.05\n",
        "\n",
        "if p_value < α:\n",
        "    print(\"Reject the null hypothesis. The conversion rate for the new page is greater than the conversion rate for the old page.\")\n",
        "else:\n",
        "    print(\"Fail to reject the null hypothesis. There is not enough evidence to conclude that the conversion rate for the new page is greater than the conversion rate for the old page.\")"
      ],
      "metadata": {
        "colab": {
          "base_uri": "https://localhost:8080/"
        },
        "id": "KBVjR_Rvtohd",
        "outputId": "13179bbf-0b3e-44f4-b8e3-54299873d12d"
      },
      "execution_count": 34,
      "outputs": [
        {
          "output_type": "stream",
          "name": "stdout",
          "text": [
            "Reject the null hypothesis. The conversion rate for the new page is greater than the conversion rate for the old page.\n"
          ]
        }
      ]
    },
    {
      "cell_type": "markdown",
      "source": [
        "# Step 7: Draw inference"
      ],
      "metadata": {
        "id": "hBckvQDAt6VJ"
      }
    },
    {
      "cell_type": "markdown",
      "source": [
        "The P-value of 0.008 is less than the significance level (typically 0.05), showing strong evidence against the null hypothesis.\n",
        "\n",
        "Thus, We reject the null hypothesis and conclude that the conversion rate for the new page is statistically significantly greater than that for the old page.\n"
      ],
      "metadata": {
        "id": "UNg5nmuEt-XE"
      }
    },
    {
      "cell_type": "markdown",
      "source": [
        "# **3. Is the conversion and preferred language are independent or related?**"
      ],
      "metadata": {
        "id": "SCRGpn6rvKnx"
      }
    },
    {
      "cell_type": "markdown",
      "source": [
        "# Perform Visual Analysis"
      ],
      "metadata": {
        "id": "PrQbFJCnvafC"
      }
    },
    {
      "cell_type": "code",
      "source": [
        "pd.crosstab(df['converted'],df['language_preferred'],normalize='index').plot(kind=\"bar\", figsize=(6,8), stacked=True)\n",
        "plt.legend()\n",
        "plt.show()"
      ],
      "metadata": {
        "colab": {
          "base_uri": "https://localhost:8080/",
          "height": 706
        },
        "id": "EntacuA7l3XD",
        "outputId": "1ff64b85-fe95-4d4d-94a6-053651b77f2e"
      },
      "execution_count": 35,
      "outputs": [
        {
          "output_type": "display_data",
          "data": {
            "text/plain": [
              "<Figure size 600x800 with 1 Axes>"
            ],
            "image/png": "[encoded data removed]"
          },
          "metadata": {}
        }
      ]
    },
    {
      "cell_type": "markdown",
      "source": [
        "Observation:\n",
        "\n",
        "The languages English and French looks not evenly  distributed in converted page,"
      ],
      "metadata": {
        "id": "zIksYV_4mj1_"
      }
    },
    {
      "cell_type": "code",
      "source": [
        "#conversion and preferred language are independent or related\n",
        "crosstab = pd.crosstab(df['language_preferred'], df['converted'])\n",
        "\n",
        "sns.heatmap(crosstab, annot=True, fmt=\"d\", cmap=\"Blues\")"
      ],
      "metadata": {
        "id": "uLKeWpJovAnH",
        "colab": {
          "base_uri": "https://localhost:8080/",
          "height": 466
        },
        "outputId": "6d2c59b1-293d-4244-81ab-ddd9331f07d9"
      },
      "execution_count": 36,
      "outputs": [
        {
          "output_type": "execute_result",
          "data": {
            "text/plain": [
              "<Axes: xlabel='converted', ylabel='language_preferred'>"
            ]
          },
          "metadata": {},
          "execution_count": 36
        },
        {
          "output_type": "display_data",
          "data": {
            "text/plain": [
              "<Figure size 640x480 with 2 Axes>"
            ],
            "image/png": "[encoded data removed]"
          },
          "metadata": {}
        }
      ]
    },
    {
      "cell_type": "markdown",
      "source": [
        "# Step 1: Define the null and alternate hypotheses"
      ],
      "metadata": {
        "id": "1no8fn2DZ1Xc"
      }
    },
    {
      "cell_type": "markdown",
      "source": [
        "Null hypothesis : The converted status is independent on the preferred language.\n",
        "\n",
        "Alternate hypothesis : the converted status is dependent on the prefered language."
      ],
      "metadata": {
        "id": "-0MyOf2VZ2fy"
      }
    },
    {
      "cell_type": "markdown",
      "source": [
        "# Step 2: Select Appropriate test"
      ],
      "metadata": {
        "id": "ZrQ0Eu6FoP3y"
      }
    },
    {
      "cell_type": "markdown",
      "source": [
        "This is a problem of the test of independence, concerning two categorical variables - converted status and preferred language.  \n",
        "\n",
        "The best approach is CHi-square test of independence"
      ],
      "metadata": {
        "id": "DLDLfwXOoZ2a"
      }
    },
    {
      "cell_type": "markdown",
      "source": [
        "# Step 3: Decide the significance level"
      ],
      "metadata": {
        "id": "GuZqNNFypPHZ"
      }
    },
    {
      "cell_type": "markdown",
      "source": [
        "To perform a statistical analysis at a significance level of 5% to determine the effectiveness we use,\n",
        "\n",
        "Significance level = 0.05"
      ],
      "metadata": {
        "id": "sEWFAAd5pS78"
      }
    },
    {
      "cell_type": "markdown",
      "source": [
        "# Step 4: Collect and prepare data"
      ],
      "metadata": {
        "id": "u3MIz46_pftR"
      }
    },
    {
      "cell_type": "code",
      "source": [
        "# Create a contingency table (cross-tabulation) of conversion status and language\n",
        "contingency_table = pd.crosstab(df['language_preferred'], df['converted'])\n",
        "contingency_table"
      ],
      "metadata": {
        "colab": {
          "base_uri": "https://localhost:8080/",
          "height": 175
        },
        "id": "4oAqwkIYqOVL",
        "outputId": "9a1c2c53-905f-4186-fe46-75baa871f9d6"
      },
      "execution_count": 37,
      "outputs": [
        {
          "output_type": "execute_result",
          "data": {
            "text/plain": [
              "converted           no  yes\n",
              "language_preferred         \n",
              "English             11   21\n",
              "French              19   15\n",
              "Spanish             16   18"
            ],
            "text/html": [
              "\n",
              "  <div id=\"df-0e460dab-6ca0-4435-bbbc-e98030e432d4\" class=\"colab-df-container\">\n",
              "    <div>\n",
              "<style scoped>\n",
              "    .dataframe tbody tr th:only-of-type {\n",
              "        vertical-align: middle;\n",
              "    }\n",
              "\n",
              "    .dataframe tbody tr th {\n",
              "        vertical-align: top;\n",
              "    }\n",
              "\n",
              "    .dataframe thead th {\n",
              "        text-align: right;\n",
              "    }\n",
              "</style>\n",
              "<table border=\"1\" class=\"dataframe\">\n",
              "  <thead>\n",
              "    <tr style=\"text-align: right;\">\n",
              "      <th>converted</th>\n",
              "      <th>no</th>\n",
              "      <th>yes</th>\n",
              "    </tr>\n",
              "    <tr>\n",
              "      <th>language_preferred</th>\n",
              "      <th></th>\n",
              "      <th></th>\n",
              "    </tr>\n",
              "  </thead>\n",
              "  <tbody>\n",
              "    <tr>\n",
              "      <th>English</th>\n",
              "      <td>11</td>\n",
              "      <td>21</td>\n",
              "    </tr>\n",
              "    <tr>\n",
              "      <th>French</th>\n",
              "      <td>19</td>\n",
              "      <td>15</td>\n",
              "    </tr>\n",
              "    <tr>\n",
              "      <th>Spanish</th>\n",
              "      <td>16</td>\n",
              "      <td>18</td>\n",
              "    </tr>\n",
              "  </tbody>\n",
              "</table>\n",
              "</div>\n",
              "    <div class=\"colab-df-buttons\">\n",
              "\n",
              "  <div class=\"colab-df-container\">\n",
              "    <button class=\"colab-df-convert\" onclick=\"convertToInteractive('df-0e460dab-6ca0-4435-bbbc-e98030e432d4')\"\n",
              "            title=\"Convert this dataframe to an interactive table.\"\n",
              "            style=\"display:none;\">\n",
              "\n",
              "  <svg xmlns=\"http://www.w3.org/2000/svg\" height=\"24px\" viewBox=\"0 -960 960 960\">\n",
              "    <path d=\"M120-120v-720h720v720H120Zm60-500h600v-160H180v160Zm220 220h160v-160H400v160Zm0 220h160v-160H400v160ZM180-400h160v-160H180v160Zm440 0h160v-160H620v160ZM180-180h160v-160H180v160Zm440 0h160v-160H620v160Z\"/>\n",
              "  </svg>\n",
              "    </button>\n",
              "\n",
              "  <style>\n",
              "    .colab-df-container {\n",
              "      display:flex;\n",
              "      gap: 12px;\n",
              "    }\n",
              "\n",
              "    .colab-df-convert {\n",
              "      background-color: #E8F0FE;\n",
              "      border: none;\n",
              "      border-radius: 50%;\n",
              "      cursor: pointer;\n",
              "      display: none;\n",
              "      fill: #1967D2;\n",
              "      height: 32px;\n",
              "      padding: 0 0 0 0;\n",
              "      width: 32px;\n",
              "    }\n",
              "\n",
              "    .colab-df-convert:hover {\n",
              "      background-color: #E2EBFA;\n",
              "      box-shadow: 0px 1px 2px rgba(60, 64, 67, 0.3), 0px 1px 3px 1px rgba(60, 64, 67, 0.15);\n",
              "      fill: #174EA6;\n",
              "    }\n",
              "\n",
              "    .colab-df-buttons div {\n",
              "      margin-bottom: 4px;\n",
              "    }\n",
              "\n",
              "    [theme=dark] .colab-df-convert {\n",
              "      background-color: #3B4455;\n",
              "      fill: #D2E3FC;\n",
              "    }\n",
              "\n",
              "    [theme=dark] .colab-df-convert:hover {\n",
              "      background-color: #434B5C;\n",
              "      box-shadow: 0px 1px 3px 1px rgba(0, 0, 0, 0.15);\n",
              "      filter: drop-shadow(0px 1px 2px rgba(0, 0, 0, 0.3));\n",
              "      fill: #FFFFFF;\n",
              "    }\n",
              "  </style>\n",
              "\n",
              "    <script>\n",
              "      const buttonEl =\n",
              "        document.querySelector('#df-0e460dab-6ca0-4435-bbbc-e98030e432d4 button.colab-df-convert');\n",
              "      buttonEl.style.display =\n",
              "        google.colab.kernel.accessAllowed ? 'block' : 'none';\n",
              "\n",
              "      async function convertToInteractive(key) {\n",
              "        const element = document.querySelector('#df-0e460dab-6ca0-4435-bbbc-e98030e432d4');\n",
              "        const dataTable =\n",
              "          await google.colab.kernel.invokeFunction('convertToInteractive',\n",
              "                                                    [key], {});\n",
              "        if (!dataTable) return;\n",
              "\n",
              "        const docLinkHtml = 'Like what you see? Visit the ' +\n",
              "          '<a target=\"_blank\" href=https://colab.research.google.com/notebooks/data_table.ipynb>data table notebook</a>'\n",
              "          + ' to learn more about interactive tables.';\n",
              "        element.innerHTML = '';\n",
              "        dataTable['output_type'] = 'display_data';\n",
              "        await google.colab.output.renderOutput(dataTable, element);\n",
              "        const docLink = document.createElement('div');\n",
              "        docLink.innerHTML = docLinkHtml;\n",
              "        element.appendChild(docLink);\n",
              "      }\n",
              "    </script>\n",
              "  </div>\n",
              "\n",
              "\n",
              "<div id=\"df-f1e4c63a-c0cf-4608-ba20-02a8bc29d57a\">\n",
              "  <button class=\"colab-df-quickchart\" onclick=\"quickchart('df-f1e4c63a-c0cf-4608-ba20-02a8bc29d57a')\"\n",
              "            title=\"Suggest charts\"\n",
              "            style=\"display:none;\">\n",
              "\n",
              "<svg xmlns=\"http://www.w3.org/2000/svg\" height=\"24px\"viewBox=\"0 0 24 24\"\n",
              "     width=\"24px\">\n",
              "    <g>\n",
              "        <path d=\"M19 3H5c-1.1 0-2 .9-2 2v14c0 1.1.9 2 2 2h14c1.1 0 2-.9 2-2V5c0-1.1-.9-2-2-2zM9 17H7v-7h2v7zm4 0h-2V7h2v10zm4 0h-2v-4h2v4z\"/>\n",
              "    </g>\n",
              "</svg>\n",
              "  </button>\n",
              "\n",
              "<style>\n",
              "  .colab-df-quickchart {\n",
              "      --bg-color: #E8F0FE;\n",
              "      --fill-color: #1967D2;\n",
              "      --hover-bg-color: #E2EBFA;\n",
              "      --hover-fill-color: #174EA6;\n",
              "      --disabled-fill-color: #AAA;\n",
              "      --disabled-bg-color: #DDD;\n",
              "  }\n",
              "\n",
              "  [theme=dark] .colab-df-quickchart {\n",
              "      --bg-color: #3B4455;\n",
              "      --fill-color: #D2E3FC;\n",
              "      --hover-bg-color: #434B5C;\n",
              "      --hover-fill-color: #FFFFFF;\n",
              "      --disabled-bg-color: #3B4455;\n",
              "      --disabled-fill-color: #666;\n",
              "  }\n",
              "\n",
              "  .colab-df-quickchart {\n",
              "    background-color: var(--bg-color);\n",
              "    border: none;\n",
              "    border-radius: 50%;\n",
              "    cursor: pointer;\n",
              "    display: none;\n",
              "    fill: var(--fill-color);\n",
              "    height: 32px;\n",
              "    padding: 0;\n",
              "    width: 32px;\n",
              "  }\n",
              "\n",
              "  .colab-df-quickchart:hover {\n",
              "    background-color: var(--hover-bg-color);\n",
              "    box-shadow: 0 1px 2px rgba(60, 64, 67, 0.3), 0 1px 3px 1px rgba(60, 64, 67, 0.15);\n",
              "    fill: var(--button-hover-fill-color);\n",
              "  }\n",
              "\n",
              "  .colab-df-quickchart-complete:disabled,\n",
              "  .colab-df-quickchart-complete:disabled:hover {\n",
              "    background-color: var(--disabled-bg-color);\n",
              "    fill: var(--disabled-fill-color);\n",
              "    box-shadow: none;\n",
              "  }\n",
              "\n",
              "  .colab-df-spinner {\n",
              "    border: 2px solid var(--fill-color);\n",
              "    border-color: transparent;\n",
              "    border-bottom-color: var(--fill-color);\n",
              "    animation:\n",
              "      spin 1s steps(1) infinite;\n",
              "  }\n",
              "\n",
              "  @keyframes spin {\n",
              "    0% {\n",
              "      border-color: transparent;\n",
              "      border-bottom-color: var(--fill-color);\n",
              "      border-left-color: var(--fill-color);\n",
              "    }\n",
              "    20% {\n",
              "      border-color: transparent;\n",
              "      border-left-color: var(--fill-color);\n",
              "      border-top-color: var(--fill-color);\n",
              "    }\n",
              "    30% {\n",
              "      border-color: transparent;\n",
              "      border-left-color: var(--fill-color);\n",
              "      border-top-color: var(--fill-color);\n",
              "      border-right-color: var(--fill-color);\n",
              "    }\n",
              "    40% {\n",
              "      border-color: transparent;\n",
              "      border-right-color: var(--fill-color);\n",
              "      border-top-color: var(--fill-color);\n",
              "    }\n",
              "    60% {\n",
              "      border-color: transparent;\n",
              "      border-right-color: var(--fill-color);\n",
              "    }\n",
              "    80% {\n",
              "      border-color: transparent;\n",
              "      border-right-color: var(--fill-color);\n",
              "      border-bottom-color: var(--fill-color);\n",
              "    }\n",
              "    90% {\n",
              "      border-color: transparent;\n",
              "      border-bottom-color: var(--fill-color);\n",
              "    }\n",
              "  }\n",
              "</style>\n",
              "\n",
              "  <script>\n",
              "    async function quickchart(key) {\n",
              "      const quickchartButtonEl =\n",
              "        document.querySelector('#' + key + ' button');\n",
              "      quickchartButtonEl.disabled = true;  // To prevent multiple clicks.\n",
              "      quickchartButtonEl.classList.add('colab-df-spinner');\n",
              "      try {\n",
              "        const charts = await google.colab.kernel.invokeFunction(\n",
              "            'suggestCharts', [key], {});\n",
              "      } catch (error) {\n",
              "        console.error('Error during call to suggestCharts:', error);\n",
              "      }\n",
              "      quickchartButtonEl.classList.remove('colab-df-spinner');\n",
              "      quickchartButtonEl.classList.add('colab-df-quickchart-complete');\n",
              "    }\n",
              "    (() => {\n",
              "      let quickchartButtonEl =\n",
              "        document.querySelector('#df-f1e4c63a-c0cf-4608-ba20-02a8bc29d57a button');\n",
              "      quickchartButtonEl.style.display =\n",
              "        google.colab.kernel.accessAllowed ? 'block' : 'none';\n",
              "    })();\n",
              "  </script>\n",
              "</div>\n",
              "\n",
              "  <div id=\"id_164fdab9-8f5e-496f-a4f8-f6b03f9a9dd7\">\n",
              "    <style>\n",
              "      .colab-df-generate {\n",
              "        background-color: #E8F0FE;\n",
              "        border: none;\n",
              "        border-radius: 50%;\n",
              "        cursor: pointer;\n",
              "        display: none;\n",
              "        fill: #1967D2;\n",
              "        height: 32px;\n",
              "        padding: 0 0 0 0;\n",
              "        width: 32px;\n",
              "      }\n",
              "\n",
              "      .colab-df-generate:hover {\n",
              "        background-color: #E2EBFA;\n",
              "        box-shadow: 0px 1px 2px rgba(60, 64, 67, 0.3), 0px 1px 3px 1px rgba(60, 64, 67, 0.15);\n",
              "        fill: #174EA6;\n",
              "      }\n",
              "\n",
              "      [theme=dark] .colab-df-generate {\n",
              "        background-color: #3B4455;\n",
              "        fill: #D2E3FC;\n",
              "      }\n",
              "\n",
              "      [theme=dark] .colab-df-generate:hover {\n",
              "        background-color: #434B5C;\n",
              "        box-shadow: 0px 1px 3px 1px rgba(0, 0, 0, 0.15);\n",
              "        filter: drop-shadow(0px 1px 2px rgba(0, 0, 0, 0.3));\n",
              "        fill: #FFFFFF;\n",
              "      }\n",
              "    </style>\n",
              "    <button class=\"colab-df-generate\" onclick=\"generateWithVariable('contingency_table')\"\n",
              "            title=\"Generate code using this dataframe.\"\n",
              "            style=\"display:none;\">\n",
              "\n",
              "  <svg xmlns=\"http://www.w3.org/2000/svg\" height=\"24px\"viewBox=\"0 0 24 24\"\n",
              "       width=\"24px\">\n",
              "    <path d=\"M7,19H8.4L18.45,9,17,7.55,7,17.6ZM5,21V16.75L18.45,3.32a2,2,0,0,1,2.83,0l1.4,1.43a1.91,1.91,0,0,1,.58,1.4,1.91,1.91,0,0,1-.58,1.4L9.25,21ZM18.45,9,17,7.55Zm-12,3A5.31,5.31,0,0,0,4.9,8.1,5.31,5.31,0,0,0,1,6.5,5.31,5.31,0,0,0,4.9,4.9,5.31,5.31,0,0,0,6.5,1,5.31,5.31,0,0,0,8.1,4.9,5.31,5.31,0,0,0,12,6.5,5.46,5.46,0,0,0,6.5,12Z\"/>\n",
              "  </svg>\n",
              "    </button>\n",
              "    <script>\n",
              "      (() => {\n",
              "      const buttonEl =\n",
              "        document.querySelector('#id_164fdab9-8f5e-496f-a4f8-f6b03f9a9dd7 button.colab-df-generate');\n",
              "      buttonEl.style.display =\n",
              "        google.colab.kernel.accessAllowed ? 'block' : 'none';\n",
              "\n",
              "      buttonEl.onclick = () => {\n",
              "        google.colab.notebook.generateWithVariable('contingency_table');\n",
              "      }\n",
              "      })();\n",
              "    </script>\n",
              "  </div>\n",
              "\n",
              "    </div>\n",
              "  </div>\n"
            ],
            "application/vnd.google.colaboratory.intrinsic+json": {
              "type": "dataframe",
              "variable_name": "contingency_table",
              "summary": "{\n  \"name\": \"contingency_table\",\n  \"rows\": 3,\n  \"fields\": [\n    {\n      \"column\": \"language_preferred\",\n      \"properties\": {\n        \"dtype\": \"string\",\n        \"num_unique_values\": 3,\n        \"samples\": [\n          \"English\",\n          \"French\",\n          \"Spanish\"\n        ],\n        \"semantic_type\": \"\",\n        \"description\": \"\"\n      }\n    },\n    {\n      \"column\": \"no\",\n      \"properties\": {\n        \"dtype\": \"number\",\n        \"std\": 4,\n        \"min\": 11,\n        \"max\": 19,\n        \"num_unique_values\": 3,\n        \"samples\": [\n          11,\n          19,\n          16\n        ],\n        \"semantic_type\": \"\",\n        \"description\": \"\"\n      }\n    },\n    {\n      \"column\": \"yes\",\n      \"properties\": {\n        \"dtype\": \"number\",\n        \"std\": 3,\n        \"min\": 15,\n        \"max\": 21,\n        \"num_unique_values\": 3,\n        \"samples\": [\n          21,\n          15,\n          18\n        ],\n        \"semantic_type\": \"\",\n        \"description\": \"\"\n      }\n    }\n  ]\n}"
            }
          },
          "metadata": {},
          "execution_count": 37
        }
      ]
    },
    {
      "cell_type": "markdown",
      "source": [
        "# Step 5: Calculate the p-value"
      ],
      "metadata": {
        "id": "r4h45817pjI0"
      }
    },
    {
      "cell_type": "code",
      "source": [
        "#Calculate the p-value\n",
        "chi2, p_value, _, _ = stats.chi2_contingency(contingency_table)\n",
        "\n",
        "print(\"Chi-square statistic:\", chi2)\n",
        "print(\"P-value:\", p_value)\n"
      ],
      "metadata": {
        "colab": {
          "base_uri": "https://localhost:8080/"
        },
        "id": "43HQ-BC6qkJb",
        "outputId": "b5e2a6a5-0191-427c-ebdc-966f7d0743a9"
      },
      "execution_count": 38,
      "outputs": [
        {
          "output_type": "stream",
          "name": "stdout",
          "text": [
            "Chi-square statistic: 3.0930306905370832\n",
            "P-value: 0.2129888748754345\n"
          ]
        }
      ]
    },
    {
      "cell_type": "markdown",
      "source": [
        "# Step 6: Compare the p-value with α"
      ],
      "metadata": {
        "id": "ZRlM6i_-qvCR"
      }
    },
    {
      "cell_type": "code",
      "source": [
        "#Compare the p-value with α\n",
        "if p_value < 0.05:\n",
        "    print(\"Reject the null hypothesis. There is a relationship between conversion status and preferred language.\")\n",
        "else:\n",
        "    print(\"Fail to reject the null hypothesis. There is no significant relationship between conversion status and preferred language.\")\n"
      ],
      "metadata": {
        "colab": {
          "base_uri": "https://localhost:8080/"
        },
        "id": "6FyOJQg1qyzE",
        "outputId": "1c23628c-0595-4037-9cc6-7d38e11e2da9"
      },
      "execution_count": 39,
      "outputs": [
        {
          "output_type": "stream",
          "name": "stdout",
          "text": [
            "Fail to reject the null hypothesis. There is no significant relationship between conversion status and preferred language.\n"
          ]
        }
      ]
    },
    {
      "cell_type": "markdown",
      "source": [
        "# Step 7: Draw inference"
      ],
      "metadata": {
        "id": "4BbulT9Mq7xg"
      }
    },
    {
      "cell_type": "markdown",
      "source": [
        "The p-value is 0.2129888748754345, which is greater than 0.05 showing strong evidence against the null hypothesis.\n",
        "\n",
        "Hence,we fail to reject the null hypothesis and we do not have enough statistical evidence to say that the converted status depends on the preferred language."
      ],
      "metadata": {
        "id": "xqibd9GcrALq"
      }
    },
    {
      "cell_type": "markdown",
      "source": [
        "# **4. Is the time spent on the new page same for the different language users?**"
      ],
      "metadata": {
        "id": "FWao5m76sGJK"
      }
    },
    {
      "cell_type": "markdown",
      "source": [
        "# Perform Visual Analysis"
      ],
      "metadata": {
        "id": "DUwvJXYKsaMr"
      }
    },
    {
      "cell_type": "code",
      "source": [
        "# Perform Visual Analysis\n",
        "sns.boxplot(data=df[df['landing_page'] == 'new'], x='language_preferred', y='time_spent_on_the_page')\n",
        "plt.show()"
      ],
      "metadata": {
        "colab": {
          "base_uri": "https://localhost:8080/",
          "height": 450
        },
        "id": "3IN6nhV4J_ob",
        "outputId": "875e5ded-9cd1-4afe-cbb2-ef74afdd8aa5"
      },
      "execution_count": 40,
      "outputs": [
        {
          "output_type": "display_data",
          "data": {
            "text/plain": [
              "<Figure size 640x480 with 1 Axes>"
            ],
            "image/png": "[encoded data removed]"
          },
          "metadata": {}
        }
      ]
    },
    {
      "cell_type": "code",
      "source": [
        "df['language_preferred'].value_counts()"
      ],
      "metadata": {
        "colab": {
          "base_uri": "https://localhost:8080/",
          "height": 178
        },
        "id": "j6PhQ1apOvjr",
        "outputId": "7f69b29e-7d57-4b5a-9039-8b61cfc6fed6"
      },
      "execution_count": 41,
      "outputs": [
        {
          "output_type": "execute_result",
          "data": {
            "text/plain": [
              "Spanish    34\n",
              "French     34\n",
              "English    32\n",
              "Name: language_preferred, dtype: int64"
            ],
            "text/html": [
              "<div>\n",
              "<style scoped>\n",
              "    .dataframe tbody tr th:only-of-type {\n",
              "        vertical-align: middle;\n",
              "    }\n",
              "\n",
              "    .dataframe tbody tr th {\n",
              "        vertical-align: top;\n",
              "    }\n",
              "\n",
              "    .dataframe thead th {\n",
              "        text-align: right;\n",
              "    }\n",
              "</style>\n",
              "<table border=\"1\" class=\"dataframe\">\n",
              "  <thead>\n",
              "    <tr style=\"text-align: right;\">\n",
              "      <th></th>\n",
              "      <th>language_preferred</th>\n",
              "    </tr>\n",
              "  </thead>\n",
              "  <tbody>\n",
              "    <tr>\n",
              "      <th>Spanish</th>\n",
              "      <td>34</td>\n",
              "    </tr>\n",
              "    <tr>\n",
              "      <th>French</th>\n",
              "      <td>34</td>\n",
              "    </tr>\n",
              "    <tr>\n",
              "      <th>English</th>\n",
              "      <td>32</td>\n",
              "    </tr>\n",
              "  </tbody>\n",
              "</table>\n",
              "</div><br><label><b>dtype:</b> int64</label>"
            ]
          },
          "metadata": {},
          "execution_count": 41
        }
      ]
    },
    {
      "cell_type": "markdown",
      "source": [
        "Observation: The language counts for spanish,french and english are 34,34,32 respectively."
      ],
      "metadata": {
        "id": "8_K_79BfPU36"
      }
    },
    {
      "cell_type": "code",
      "source": [
        "# Checking the mean time spent on the new page for different language users\n",
        "df_new = df[df['landing_page'] == 'new']\n",
        "df_new.groupby(['language_preferred'])['time_spent_on_the_page'].mean()\n"
      ],
      "metadata": {
        "colab": {
          "base_uri": "https://localhost:8080/",
          "height": 210
        },
        "id": "4Wj5G6Pz9cPY",
        "outputId": "4a80bb0a-eaf7-4bed-988b-168a05157f32"
      },
      "execution_count": 42,
      "outputs": [
        {
          "output_type": "execute_result",
          "data": {
            "text/plain": [
              "language_preferred\n",
              "English    6.663750\n",
              "French     6.196471\n",
              "Spanish    5.835294\n",
              "Name: time_spent_on_the_page, dtype: float64"
            ],
            "text/html": [
              "<div>\n",
              "<style scoped>\n",
              "    .dataframe tbody tr th:only-of-type {\n",
              "        vertical-align: middle;\n",
              "    }\n",
              "\n",
              "    .dataframe tbody tr th {\n",
              "        vertical-align: top;\n",
              "    }\n",
              "\n",
              "    .dataframe thead th {\n",
              "        text-align: right;\n",
              "    }\n",
              "</style>\n",
              "<table border=\"1\" class=\"dataframe\">\n",
              "  <thead>\n",
              "    <tr style=\"text-align: right;\">\n",
              "      <th></th>\n",
              "      <th>time_spent_on_the_page</th>\n",
              "    </tr>\n",
              "    <tr>\n",
              "      <th>language_preferred</th>\n",
              "      <th></th>\n",
              "    </tr>\n",
              "  </thead>\n",
              "  <tbody>\n",
              "    <tr>\n",
              "      <th>English</th>\n",
              "      <td>6.663750</td>\n",
              "    </tr>\n",
              "    <tr>\n",
              "      <th>French</th>\n",
              "      <td>6.196471</td>\n",
              "    </tr>\n",
              "    <tr>\n",
              "      <th>Spanish</th>\n",
              "      <td>5.835294</td>\n",
              "    </tr>\n",
              "  </tbody>\n",
              "</table>\n",
              "</div><br><label><b>dtype:</b> float64</label>"
            ]
          },
          "metadata": {},
          "execution_count": 42
        }
      ]
    },
    {
      "cell_type": "markdown",
      "source": [
        "# Step 1: Define the null and alternate hypotheses\n"
      ],
      "metadata": {
        "id": "q11sQh4kKjXJ"
      }
    },
    {
      "cell_type": "markdown",
      "source": [
        "Null Hypothesis H0: The average time spent on the new page is same for all the 3 languages.\n",
        "\n",
        "Alternative Hypothesis Ha: The average time spent on the new page is different for all the 3 languages."
      ],
      "metadata": {
        "id": "ZlXxB81wKo_Q"
      }
    },
    {
      "cell_type": "markdown",
      "source": [
        "# Step 2: Select Appropriate test"
      ],
      "metadata": {
        "id": "ncfxB8-_MH28"
      }
    },
    {
      "cell_type": "markdown",
      "source": [
        "As this question, involves **3 languages the appropriate test** to be used is ANOVA TEST.\n",
        "\n",
        "ANOVA Test is used to compare the sample means from 2 or more independent populations\n",
        "\n",
        "Now, to confirm ANOVA TEST the normality and equality of variance assumptions need to be checked.\n",
        "\n",
        "For testing of normality, **Shapiro-Wilk’s test** is applied to the response variable.\n",
        "\n",
        "For equality of variance, **Levene test** is applied to the response variable."
      ],
      "metadata": {
        "id": "VPx81JPVMLlu"
      }
    },
    {
      "cell_type": "markdown",
      "source": [
        "# Shapiro-Wilk’s test\n",
        "\n",
        "## We will test the null hypothesis\n",
        "\n",
        "H0:Time spent on the page follows a normal distribution against the alternative hypothesis\n",
        "\n",
        "Ha:Time spent on the page does not follow a normal distribution\n",
        "\n",
        "The shapiro() function of Scipy will be used to compute the test statistic and p-value."
      ],
      "metadata": {
        "id": "PK17KnfxGWl2"
      }
    },
    {
      "cell_type": "code",
      "source": [
        "# Shapiro-Wilk’s test\n",
        "\n",
        "# import the required function\n",
        "from scipy.stats import shapiro\n",
        "\n",
        "# find the p-value\n",
        "w, p_value = shapiro(df_new['time_spent_on_the_page'])\n",
        "print('The p-value is', p_value)"
      ],
      "metadata": {
        "colab": {
          "base_uri": "https://localhost:8080/"
        },
        "id": "_pm5g1O19Q-J",
        "outputId": "6d8b6ae3-ef91-417c-c47b-826acfc26f7d"
      },
      "execution_count": 43,
      "outputs": [
        {
          "output_type": "stream",
          "name": "stdout",
          "text": [
            "The p-value is 0.8040016293525696\n"
          ]
        }
      ]
    },
    {
      "cell_type": "markdown",
      "source": [
        "Observation:\n",
        "\n",
        "Since p-value of the test is very large than the 5% significance level, we fail to reject the null hypothesis that the response follows the normal distribution"
      ],
      "metadata": {
        "id": "yfhFjXURE2Pf"
      }
    },
    {
      "cell_type": "markdown",
      "source": [
        "## Levene’s test\n",
        "### We will test the null hypothesis\n",
        "\n",
        "H0: All the population variances are equal against the alternative hypothesis\n",
        "\n",
        "Ha: At least one variance is different from the rest\n",
        "\n",
        "The levene() function of Scipy will be used to compute the test statistic and p-value."
      ],
      "metadata": {
        "id": "lXtcsZZHFsSF"
      }
    },
    {
      "cell_type": "code",
      "source": [
        "#import the required function\n",
        "from scipy.stats import levene\n",
        "statistic, p_value = levene( df_new[df_new['language_preferred']==\"English\"]['time_spent_on_the_page'],\n",
        "                             df_new[df_new['language_preferred']==\"French\"]['time_spent_on_the_page'],\n",
        "                             df_new[df_new['language_preferred']==\"Spanish\"]['time_spent_on_the_page'])\n",
        "# find the p-value\n",
        "print('The p-value is', p_value)"
      ],
      "metadata": {
        "colab": {
          "base_uri": "https://localhost:8080/"
        },
        "id": "cEqcEVFHGT2x",
        "outputId": "db068fa1-1801-4fc1-b25f-93139ae62f1b"
      },
      "execution_count": 44,
      "outputs": [
        {
          "output_type": "stream",
          "name": "stdout",
          "text": [
            "The p-value is 0.46711357711340173\n"
          ]
        }
      ]
    },
    {
      "cell_type": "markdown",
      "source": [
        "Observation:\n",
        "\n",
        "Since the p-value is large, we fail to reject the null hypothesis of homogeneity of variances."
      ],
      "metadata": {
        "id": "mCarAKILH2Jm"
      }
    },
    {
      "cell_type": "markdown",
      "source": [
        "# Step 3: Decide the significance level"
      ],
      "metadata": {
        "id": "4N4q-QhJNpCp"
      }
    },
    {
      "cell_type": "markdown",
      "source": [
        "To perform a statistical analysis at a significance level of 5% to determine the effectiveness we use,\n",
        "\n",
        "Significance level = 0.05"
      ],
      "metadata": {
        "id": "aJCtYPPXNqJf"
      }
    },
    {
      "cell_type": "markdown",
      "source": [
        "# Step 4: Collect and prepare data"
      ],
      "metadata": {
        "id": "wUPrfiqqNv5v"
      }
    },
    {
      "cell_type": "code",
      "source": [
        "time_spent_English = df_new[df_new['language_preferred']==\"English\"]['time_spent_on_the_page']\n",
        "time_spent_French = df_new[df_new['language_preferred']==\"French\"]['time_spent_on_the_page']\n",
        "time_spent_Spanish = df_new[df_new['language_preferred']==\"Spanish\"]['time_spent_on_the_page']"
      ],
      "metadata": {
        "id": "A6aqgq18Ijux"
      },
      "execution_count": 45,
      "outputs": []
    },
    {
      "cell_type": "markdown",
      "source": [
        "# Step 5: Calculate the p-value"
      ],
      "metadata": {
        "id": "aMNNRrytIpJO"
      }
    },
    {
      "cell_type": "code",
      "source": [
        "# import the required function\n",
        "from scipy.stats import f_oneway\n",
        "# find the p-value\n",
        "test_stat, p_value = f_oneway(time_spent_English, time_spent_French, time_spent_Spanish)\n",
        "# print the p-value\n",
        "print('The p-value is', p_value)"
      ],
      "metadata": {
        "colab": {
          "base_uri": "https://localhost:8080/"
        },
        "id": "ef8nBo3UI7Ui",
        "outputId": "e9079495-8195-4c66-d8ed-d38310b04656"
      },
      "execution_count": 46,
      "outputs": [
        {
          "output_type": "stream",
          "name": "stdout",
          "text": [
            "The p-value is 0.43204138694325955\n"
          ]
        }
      ]
    },
    {
      "cell_type": "markdown",
      "source": [
        "# Step 6: Compare the p-value with α"
      ],
      "metadata": {
        "id": "HFeFrimRJDvp"
      }
    },
    {
      "cell_type": "code",
      "source": [
        "#Compare the p-value with α\n",
        "if p_value < 0.05:\n",
        "    print(\"Reject the null hypothesis. The average time spent on the new page is same for all the 3 languages..\")\n",
        "else:\n",
        "    print(\"Fail to reject the null hypothesis.The average time spent is not same for all the 3 languages..\")\n"
      ],
      "metadata": {
        "colab": {
          "base_uri": "https://localhost:8080/"
        },
        "id": "hAoC1q4FJG_3",
        "outputId": "0cbe2817-b0cc-4daf-e3dd-bc31ef1f964d"
      },
      "execution_count": 47,
      "outputs": [
        {
          "output_type": "stream",
          "name": "stdout",
          "text": [
            "Fail to reject the null hypothesis.The average time spent is not same for all the 3 languages..\n"
          ]
        }
      ]
    },
    {
      "cell_type": "markdown",
      "source": [
        "# Step 7: Draw inference"
      ],
      "metadata": {
        "id": "yA8yZYXHI6TE"
      }
    },
    {
      "cell_type": "markdown",
      "source": [
        "Since the p-value is greater than the 5% significance level, we fail to reject the null hypothesis. Hence, we do not have enough statistical evidence to say that the mean times spent on the new page by English, French, and Spanish users differ to any meaningful degree."
      ],
      "metadata": {
        "id": "bwOZf1zkKkOF"
      }
    },
    {
      "cell_type": "markdown",
      "source": [
        "# **Conclusion and Business Recommendations**"
      ],
      "metadata": {
        "id": "PFcQdn5KKnDg"
      }
    },
    {
      "cell_type": "markdown",
      "source": [
        "**Conclusion**\n",
        "The analysis conducted on the A/B test data for the two landing pages has provided valuable insights into user behavior and the effectiveness of the new landing page.\n",
        "\n",
        "Here's a summary of the key findings:\n",
        "\n",
        "**Time Spent on the Landing Pages:**\n",
        "\n",
        "Users spent significantly more time on the new landing page compared to the old one. The statistical test (T-test) confirmed that this difference is statistically significant (p-value < 0.05), implying that the new landing page is more engaging and keeps users' attention for longer periods.\n",
        "\n",
        "**Conversion Rates:**\n",
        "\n",
        "The new landing page also demonstrated a higher conversion rate, as indicated by the results of the two-sample z-test for proportions (p-value = 0.008), which showed that the new landing page is more effective in converting visitors into subscribers.\n",
        "\n",
        "**Conversion and Preferred Language:**\n",
        "\n",
        "The analysis revealed no significant relationship between the preferred language of users and their conversion status. The Chi-square test returned a p-value of 0.213, suggesting that conversion rates are independent of the language preference of users.\n",
        "\n",
        "**Time Spent and Language Preference:**\n",
        "\n",
        "An analysis of the time spent on the new page by users with different language preferences (English, French, and Spanish) indicated no significant difference in engagement levels across these groups. The ANOVA test and subsequent tests for normality and variance homogeneity failed to reject the null hypothesis, indicating that the time spent on the page is consistent across language groups."
      ],
      "metadata": {
        "id": "umtyFNanLI4N"
      }
    },
    {
      "cell_type": "markdown",
      "source": [
        "# **Business Recommendations**"
      ],
      "metadata": {
        "id": "nfxGCUewM7mj"
      }
    },
    {
      "cell_type": "markdown",
      "source": [
        "Based on these findings, the following recommendations can be made:\n",
        "\n",
        "**Focus on the New Landing Page:**\n",
        "\n",
        "Since users spend more time on the new landing page and the conversion rate is significantly higher, it is recommended to prioritize the new landing page in marketing and user engagement strategies. The new landing page appears to be more engaging and effective in capturing user interest and driving conversions.\n",
        "\n",
        "**Optimize for User Engagement:**\n",
        "\n",
        "While the new landing page is more effective than the old one, the business can further optimize the page to enhance user engagement. Since time spent on the page is a significant factor in conversions, consider testing additional features or elements on the new page that could further increase engagement.\n",
        "\n",
        "**Maintain Equal Focus Across Languages:**\n",
        "\n",
        "Although the new landing page outperforms the old one, the language preference does not significantly affect the conversion rate or time spent on the page. This suggests that the content and layout of the landing page are universally effective across English, French, and Spanish-speaking users. Thus, maintaining the same landing page design and content across all languages is advisable to ensure uniform performance.\n",
        "\n",
        "**Further Testing with Different Content:**\n",
        "\n",
        "Even though the current test indicates the new landing page is more effective, it is advisable to continue testing different content variations, visuals, or call-to-action elements to identify even more effective combinations. A/B testing should be an ongoing practice to continuously improve conversion rates.\n",
        "\n",
        "**User Segmentation:**\n",
        "\n",
        "Although language preference did not significantly influence conversion rates, further analysis can be done by segmenting users based on additional demographics or behaviors (e.g., age, location, browsing habits) to understand if there are other factors that could impact the effectiveness of the landing page.\n",
        "\n",
        "In conclusion, the new landing page has proven to be more effective in terms of user engagement and conversion rates. It is recommended to continue using and optimizing this page while considering further improvements based on continuous testing and segmentation of the user base."
      ],
      "metadata": {
        "id": "zNcXyHomL8na"
      }
    }
  ]
}
